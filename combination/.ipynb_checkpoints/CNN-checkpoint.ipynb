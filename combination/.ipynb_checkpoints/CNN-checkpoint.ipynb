{
 "cells": [
  {
   "cell_type": "code",
   "execution_count": 1,
   "metadata": {},
   "outputs": [
    {
     "name": "stderr",
     "output_type": "stream",
     "text": [
      "Using TensorFlow backend.\n"
     ]
    }
   ],
   "source": [
    "import pandas as pd\n",
    "import numpy as np\n",
    "from keras import regularizers\n",
    "from keras.models import Model\n",
    "from keras.layers import Dense, Embedding, Input, Conv1D, MaxPooling1D, GlobalMaxPooling1D, Dropout\n",
    "from keras.preprocessing import text, sequence\n",
    "from keras.callbacks import EarlyStopping, ModelCheckpoint"
   ]
  },
  {
   "cell_type": "code",
   "execution_count": 2,
   "metadata": {},
   "outputs": [
    {
     "name": "stdout",
     "output_type": "stream",
     "text": [
      "(159571, 10)\n",
      "(153164, 4)\n",
      "78.3055973908\n",
      "122.335182562\n"
     ]
    }
   ],
   "source": [
    "PATH = '../../data/'\n",
    "\n",
    "train = pd.read_csv(PATH + 'cleaned_train.csv')\n",
    "test = pd.read_csv(PATH + 'cleaned_test.csv')\n",
    "\n",
    "train_sentence = train['comment_text_cleaned']\n",
    "test_sentence = test['comment_text_cleaned']\n",
    "\n",
    "text_length = pd.concat([train_sentence.apply(lambda x: len(x.split())),\\\n",
    "                         test_sentence.apply(lambda x: len(x.split()))])\n",
    "\n",
    "mean_length = text_length.mean()\n",
    "std_length = text_length.std()\n",
    "\n",
    "print(train.shape)\n",
    "print(test.shape)\n",
    "print(mean_length)\n",
    "print(std_length)"
   ]
  },
  {
   "cell_type": "code",
   "execution_count": 3,
   "metadata": {
    "collapsed": true
   },
   "outputs": [],
   "source": [
    "# config\n",
    "MAX_FEATURES = 100000 # max num of words\n",
    "MAX_LEN = np.round(mean_length + 3*std_length).astype(int) # max sequence length\n",
    "EMBED_SIZE = 50 # embedding size\n",
    "FILTERS = 128 # cnn config\n",
    "KERNEL_SIZE = 7 #cnn config\n",
    "DENSE_UNITS = 50\n",
    "DROPOUT = 0.3 # dropout rate\n",
    "BATCH_SIZE = 32\n",
    "EPOCHS = 2\n",
    "EMBEDDING_FILE = 'glove.6B.50d.txt'\n",
    "\n",
    "label_cols = ['toxic', 'severe_toxic', 'obscene', 'threat', 'insult', 'identity_hate']"
   ]
  },
  {
   "cell_type": "code",
   "execution_count": 4,
   "metadata": {},
   "outputs": [
    {
     "name": "stdout",
     "output_type": "stream",
     "text": [
      "[650, 81, 1, 34, 47, 204, 27, 725, 3790, 8457, 823, 2, 144, 46, 1978, 12, 230, 51, 5142, 17, 65, 2086, 162, 5, 506, 31, 130, 1198, 8630, 2253, 7, 52, 16, 12, 100, 1, 290, 28, 1, 44, 22, 154, 5, 78, 2626, 91]\n"
     ]
    }
   ],
   "source": [
    "tokenizer = text.Tokenizer(num_words=MAX_FEATURES)\n",
    "tokenizer.fit_on_texts(pd.concat([train_sentence, test_sentence]).values)\n",
    "tokenized_train = tokenizer.texts_to_sequences(train_sentence.values)\n",
    "tokenized_test = tokenizer.texts_to_sequences(test_sentence.values)\n",
    "\n",
    "X_train = sequence.pad_sequences(tokenized_train, maxlen=MAX_LEN)\n",
    "y = train[label_cols].values\n",
    "X_test = sequence.pad_sequences(tokenized_test, maxlen=MAX_LEN)\n",
    "\n",
    "print(tokenized_train[0])"
   ]
  },
  {
   "cell_type": "code",
   "execution_count": null,
   "metadata": {},
   "outputs": [
    {
     "name": "stdout",
     "output_type": "stream",
     "text": [
      "done\n"
     ]
    }
   ],
   "source": [
    "def get_coefs(word,*arr): return word, np.asarray(arr, dtype='float32')\n",
    "\n",
    "def get_embedding_matrix(embedding_file, embed_size, max_features, tokenizer):\n",
    "    embeddings_index = dict(get_coefs(*o.strip().split()) for o in open(embedding_file))\n",
    "    all_embs = np.stack(embeddings_index.values())\n",
    "    word_index = tokenizer.word_index\n",
    "    nb_words = min(max_features, len(word_index))\n",
    "    embedding_matrix = np.random.normal(all_embs.mean(), all_embs.std(), (nb_words, embed_size))\n",
    "    for word, i in word_index.items():\n",
    "        if i < max_features:\n",
    "            embedding_vector = embeddings_index.get(word)\n",
    "            if embedding_vector is not None: embedding_matrix[i] = embedding_vector\n",
    "    return embedding_matrix\n",
    "\n",
    "def get_cnn_model(embedding_file, embed_size, max_features, tokenizer,\\\n",
    "                  kernel_size, filters, dropout, dense_units, max_len, label_cols):\n",
    "    embedding_matrix = get_embedding_matrix(embedding_file, embed_size, max_features, tokenizer)\n",
    "    input = Input(shape=(max_len, ))\n",
    "    x = Embedding(max_features, embed_size, weights=[embedding_matrix])(input)\n",
    "    x = Conv1D(FILTERS, kernel_size, padding='same', activation='relu')(x)\n",
    "    x = MaxPooling1D()(x)\n",
    "    x = Conv1D(filters, kernel_size, padding='same', activation='relu')(x)\n",
    "    x = GlobalMaxPooling1D()(x)\n",
    "    x = Dropout(dropout)(x)\n",
    "    x = Dense(dense_units, activation='relu', kernel_regularizer=regularizers.l2(0.0001))(x)\n",
    "    x = Dense(len(label_cols), activation='sigmoid')(x)\n",
    "    model = Model(inputs=input, outputs=x)\n",
    "    model.compile(loss='binary_crossentropy',\n",
    "                  optimizer='adam',\n",
    "                  metrics=['accuracy'])\n",
    "\n",
    "    return model\n",
    "\n",
    "def train_model(model, file_path, batch_size, epochs, X_train, y):\n",
    "    checkpoint = ModelCheckpoint(file_path, monitor='val_loss', verbose=1, save_best_only=True, mode='min')\n",
    "    earlystopping = EarlyStopping(monitor=\"val_loss\", mode=\"min\", patience=20)\n",
    "    callbacks_list = [checkpoint, earlystopping]\n",
    "    model.fit(X_train, y, batch_size=batch_size, epochs=epochs, validation_split=0.1, callbacks=callbacks_list)\n",
    "    return model\n",
    "\n",
    "def predict(model, file_path, X_test):\n",
    "    model.load_weights(file_path)\n",
    "    return model.predict(X_test, verbose=1)\n",
    "    \n",
    "def save(model_name, y_test, label_cols, sample_submission_file_path, path):\n",
    "    submission = pd.read_csv(sample_submission_file_path)\n",
    "    submission[label_cols] = y_test\n",
    "    submission.to_csv(path + model_name + '/' + model_name '.csv', index=False)\n",
    "\n",
    "print('done')"
   ]
  },
  {
   "cell_type": "code",
   "execution_count": null,
   "metadata": {},
   "outputs": [
    {
     "name": "stdout",
     "output_type": "stream",
     "text": [
      "getting model\n",
      "training\n",
      "Train on 143613 samples, validate on 15958 samples\n",
      "Epoch 1/2\n",
      " 49312/143613 [=========>....................] - ETA: 17:12 - loss: 0.0792 - acc: 0.9749"
     ]
    }
   ],
   "source": [
    "file_path = '../../model/cnn_best.hdf5'\n",
    "sample_submission_file_path = PATH + 'sample_submission.csv'\n",
    "\n",
    "print('getting model')\n",
    "model = get_cnn_model(PATH + EMBEDDING_FILE, EMBED_SIZE, MAX_FEATURES, tokenizer,\\\n",
    "                      KERNEL_SIZE, FILTERS, DROPOUT, DENSE_UNITS, MAX_LEN, label_cols)\n",
    "\n",
    "print('training')\n",
    "model = train_model(model, file_path, BATCH_SIZE, EPOCHS, X_train, y)\n",
    "print('predicting')\n",
    "y_test = predict(model, file_path, X_test)\n",
    "\n",
    "save('cnn', y_test, label_cols, sample_submission_file_path, PATH)\n",
    "\n",
    "print('done')"
   ]
  }
 ],
 "metadata": {
  "kernelspec": {
   "display_name": "Python 2",
   "language": "python",
   "name": "python2"
  },
  "language_info": {
   "codemirror_mode": {
    "name": "ipython",
    "version": 2
   },
   "file_extension": ".py",
   "mimetype": "text/x-python",
   "name": "python",
   "nbconvert_exporter": "python",
   "pygments_lexer": "ipython2",
   "version": "2.7.10"
  }
 },
 "nbformat": 4,
 "nbformat_minor": 2
}
