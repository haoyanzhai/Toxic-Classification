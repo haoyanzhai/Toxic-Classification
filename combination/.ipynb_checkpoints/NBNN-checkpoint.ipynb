{
 "cells": [
  {
   "cell_type": "code",
   "execution_count": 1,
   "metadata": {},
   "outputs": [
    {
     "name": "stderr",
     "output_type": "stream",
     "text": [
      "Using TensorFlow backend.\n"
     ]
    }
   ],
   "source": [
    "import pandas as pd\n",
    "import numpy as np\n",
    "from nltk.corpus import stopwords\n",
    "from nltk.tokenize import TweetTokenizer\n",
    "from sklearn.feature_extraction.text import CountVectorizer, TfidfVectorizer\n",
    "from sklearn.linear_model import LogisticRegression\n",
    "from scipy.sparse import csr_matrix\n",
    "from keras import regularizers\n",
    "from keras.models import Model\n",
    "from keras.layers import Dense, Input, Dropout, Embedding, concatenate\n",
    "from keras.callbacks import EarlyStopping, ModelCheckpoint"
   ]
  },
  {
   "cell_type": "code",
   "execution_count": 2,
   "metadata": {},
   "outputs": [
    {
     "name": "stdout",
     "output_type": "stream",
     "text": [
      "reading data\n",
      "data cleaning\n",
      "calculations\n",
      "(159571, 10)\n",
      "(153164, 4)\n"
     ]
    }
   ],
   "source": [
    "PATH = '../../data/'\n",
    "\n",
    "print('reading data')\n",
    "\n",
    "train = pd.read_csv(PATH + 'cleaned_train.csv')\n",
    "test = pd.read_csv(PATH + 'cleaned_test.csv')\n",
    "\n",
    "print('data cleaning')\n",
    "\n",
    "tok = TweetTokenizer()\n",
    "stopword = set(stopwords.words(\"english\"))\n",
    "\n",
    "def clean(comment):\n",
    "    text = tok.tokenize(comment)\n",
    "    text = [w for w in text if not w in stopword]\n",
    "    text = ' '.join(text)\n",
    "    if text == '': text = 'na'\n",
    "    return text\n",
    "\n",
    "train['comment_text_cleaned'] = train['comment_text_cleaned'].apply(lambda x: clean(x))\n",
    "test['comment_text_cleaned'] = test['comment_text_cleaned'].apply(lambda x: clean(x))\n",
    "\n",
    "print('calculations')\n",
    "\n",
    "train_sentence = train['comment_text_cleaned']\n",
    "test_sentence = test['comment_text_cleaned']\n",
    "\n",
    "def f(x):\n",
    "    x = tok.tokenize(x)\n",
    "    return len(x)\n",
    "\n",
    "text = pd.concat([train_sentence, test_sentence])\n",
    "\n",
    "print(train.shape)\n",
    "print(test.shape)"
   ]
  },
  {
   "cell_type": "code",
   "execution_count": 3,
   "metadata": {},
   "outputs": [
    {
     "name": "stdout",
     "output_type": "stream",
     "text": [
      "getting tfidf\n",
      "fitting\n",
      "transforming train\n",
      "transforming test\n"
     ]
    },
    {
     "data": {
      "text/plain": [
       "<159571x11786 sparse matrix of type '<class 'numpy.float64'>'\n",
       "\twith 4078557 stored elements in Compressed Sparse Row format>"
      ]
     },
     "execution_count": 3,
     "metadata": {},
     "output_type": "execute_result"
    }
   ],
   "source": [
    "print('getting tfidf')\n",
    "tfidf_vectorizer = TfidfVectorizer(ngram_range=(1,3), stop_words='english', max_df=0.9, min_df=100,\\\n",
    "                                   strip_accents='unicode', use_idf=1, smooth_idf=1, sublinear_tf=1)\n",
    "\n",
    "print('fitting')\n",
    "tfidf_vectorizer.fit(text.values)\n",
    "print('transforming train')\n",
    "train_tfidf = tfidf_vectorizer.transform(train['comment_text_cleaned'].values)\n",
    "print('transforming test')\n",
    "test_tfidf = tfidf_vectorizer.transform(test['comment_text_cleaned'].values)\n",
    "label_cols = ['toxic', 'severe_toxic', 'obscene', 'threat', 'insult', 'identity_hate']\n",
    "\n",
    "train_tfidf"
   ]
  },
  {
   "cell_type": "code",
   "execution_count": 6,
   "metadata": {},
   "outputs": [
    {
     "name": "stdout",
     "output_type": "stream",
     "text": [
      "done\n"
     ]
    }
   ],
   "source": [
    "def pr(y_i, y):\n",
    "    p = train_tfidf[y==y_i].sum(0)\n",
    "    return (p + 1) / ((y == y_i).sum() + 1)\n",
    "\n",
    "def get_nn_model(inp_len):\n",
    "    input = Input(shape=(inp_len,), sparse=True)\n",
    "    x = Dense(50, activation='relu')(input)\n",
    "    x = Dense(50, activation='relu')(x)\n",
    "    x = Dropout(0.5)(x)\n",
    "    x = Dense(50, activation='relu', kernel_regularizer=regularizers.l2(0.0001))(x)\n",
    "    x = Dense(2, activation='sigmoid')(x)\n",
    "    model = Model(inputs=input, outputs=x)\n",
    "    model.compile(loss='binary_crossentropy',\n",
    "                  optimizer='adam',\n",
    "                  metrics=['accuracy'])\n",
    "\n",
    "    return model\n",
    "\n",
    "def train_model(model, file_path, batch_size, epochs, X_train, y):\n",
    "    checkpoint = ModelCheckpoint(file_path, monitor='val_loss', verbose=1, save_best_only=True, mode='min')\n",
    "    earlystopping = EarlyStopping(monitor=\"val_loss\", mode=\"min\", patience=20)\n",
    "    callbacks_list = [checkpoint, earlystopping]\n",
    "    model.fit(X_train, y, batch_size=batch_size, epochs=epochs, validation_split=0.2, callbacks=callbacks_list)\n",
    "    return model\n",
    "\n",
    "def predict(model, file_path, X_test):\n",
    "    model.load_weights(file_path)\n",
    "    return model.predict(X_test, verbose=1)\n",
    "\n",
    "def run(label_cols, train_tfidf, train, test_tfidf, test_len, train_len, file_path, batch_size, epochs):\n",
    "    preds = np.zeros((test_len, len(label_cols)))\n",
    "    preds_train = np.zeros((train_len, len(label_cols)))\n",
    "    for i, j in enumerate(label_cols):\n",
    "        print('fit', j)\n",
    "        y = train[j]\n",
    "        r = np.log(pr(1, y.values) / pr(0, y.values))\n",
    "        y = y.to_frame()\n",
    "        y['2'] = 1 - y\n",
    "        y = y.values\n",
    "        model = get_nn_model(train_tfidf.shape[1])\n",
    "        x_nb = train_tfidf.multiply(r).tocsr()\n",
    "        model = train_model(model, file_path, batch_size, epochs, x_nb, y)\n",
    "        preds[:, i] = predict(model, file_path, test_tfidf.multiply(r).tocsr())[:, 0]\n",
    "        preds_train[:, i] = predict(model, file_path, x_nb)[:, 0]\n",
    "    return preds, preds_train\n",
    "\n",
    "def save(model_name, y_test, label_cols, path, is_train=False):\n",
    "    if is_train:\n",
    "        submission = pd.read_csv(path + 'sample_train.csv')\n",
    "        file_name = 'train_' + model_name\n",
    "    else:\n",
    "        submission = pd.read_csv(path + 'sample_submission.csv')\n",
    "        file_name = model_name\n",
    "    submission[label_cols] = y_test\n",
    "    submission.to_csv(path + model_name + '/' + file_name + '.csv', index=False)\n",
    "    \n",
    "print('done')"
   ]
  },
  {
   "cell_type": "code",
   "execution_count": 8,
   "metadata": {},
   "outputs": [
    {
     "name": "stdout",
     "output_type": "stream",
     "text": [
      "predicting\n",
      "fit toxic\n",
      "Train on 127656 samples, validate on 31915 samples\n",
      "Epoch 1/1\n",
      "127520/127656 [============================>.] - ETA: 0s - loss: 0.1714 - acc: 0.9513- ETA: 0s - loss: 0.1736 Epoch 00001: val_loss improved from inf to 0.11676, saving model to ../../model/nn_best.hdf5\n",
      "127656/127656 [==============================] - 15s 119us/step - loss: 0.1713 - acc: 0.9513 - val_loss: 0.1168 - val_acc: 0.9598\n",
      "153164/153164 [==============================] - 5s 31us/step\n",
      "fit severe_toxic\n",
      "Train on 127656 samples, validate on 31915 samples\n",
      "Epoch 1/1\n",
      "127296/127656 [============================>.] - ETA: 0s - loss: 0.0816 - acc: 0.9894Epoch 00001: val_loss improved from inf to 0.02834, saving model to ../../model/nn_best.hdf5\n",
      "127656/127656 [==============================] - 17s 133us/step - loss: 0.0815 - acc: 0.9894 - val_loss: 0.0283 - val_acc: 0.9902\n",
      "153164/153164 [==============================] - 5s 32us/step\n",
      "fit obscene\n",
      "Train on 127656 samples, validate on 31915 samples\n",
      "Epoch 1/1\n",
      "127392/127656 [============================>.] - ETA: 0s - loss: 0.2704 - acc: 0.9777Epoch 00001: val_loss improved from inf to 0.11209, saving model to ../../model/nn_best.hdf5\n",
      "127656/127656 [==============================] - 16s 122us/step - loss: 0.2701 - acc: 0.9777 - val_loss: 0.1121 - val_acc: 0.9784\n",
      "153164/153164 [==============================] - 5s 33us/step\n",
      "fit threat\n",
      "Train on 127656 samples, validate on 31915 samples\n",
      "Epoch 1/1\n",
      "127456/127656 [============================>.] - ETA: 0s - loss: 0.0641 - acc: 0.9958Epoch 00001: val_loss improved from inf to 0.01451, saving model to ../../model/nn_best.hdf5\n",
      "127656/127656 [==============================] - 16s 124us/step - loss: 0.0640 - acc: 0.9958 - val_loss: 0.0145 - val_acc: 0.9971\n",
      "153164/153164 [==============================] - 5s 33us/step\n",
      "fit insult\n",
      "Train on 127656 samples, validate on 31915 samples\n",
      "Epoch 1/1\n",
      "127424/127656 [============================>.] - ETA: 0s - loss: 0.1311 - acc: 0.9674- ETA: 0s - loss: 0.1315 - acc: 0.9Epoch 00001: val_loss improved from inf to 0.08228, saving model to ../../model/nn_best.hdf5\n",
      "127656/127656 [==============================] - 16s 126us/step - loss: 0.1310 - acc: 0.9674 - val_loss: 0.0823 - val_acc: 0.9714\n",
      "153164/153164 [==============================] - 5s 34us/step\n",
      "fit identity_hate\n",
      "Train on 127656 samples, validate on 31915 samples\n",
      "Epoch 1/1\n",
      "127520/127656 [============================>.] - ETA: 0s - loss: 0.0670 - acc: 0.9916Epoch 00001: val_loss improved from inf to 0.03097, saving model to ../../model/nn_best.hdf5\n",
      "127656/127656 [==============================] - 16s 127us/step - loss: 0.0670 - acc: 0.9917 - val_loss: 0.0310 - val_acc: 0.9914\n",
      "153164/153164 [==============================] - 5s 35us/step\n",
      "saving files\n",
      "done\n"
     ]
    }
   ],
   "source": [
    "FILE_PATH = '../../model/nn_best.hdf5'\n",
    "BATCH_SIZE = 32\n",
    "EPOCHS = 2\n",
    "\n",
    "print('predicting')\n",
    "y_test, y_train = run(label_cols, train_tfidf, train, test_tfidf, test.shape[0], train.shape[0],\\\n",
    "                      FILE_PATH, BATCH_SIZE, EPOCHS)\n",
    "\n",
    "print('saving files')\n",
    "save('nbnn', y_test, label_cols, PATH)\n",
    "save('nbnn', y_train, label_cols, PATH, True)\n",
    "\n",
    "print('done')"
   ]
  }
 ],
 "metadata": {
  "kernelspec": {
   "display_name": "Python 3",
   "language": "python",
   "name": "python3"
  },
  "language_info": {
   "codemirror_mode": {
    "name": "ipython",
    "version": 3
   },
   "file_extension": ".py",
   "mimetype": "text/x-python",
   "name": "python",
   "nbconvert_exporter": "python",
   "pygments_lexer": "ipython3",
   "version": "3.6.3"
  }
 },
 "nbformat": 4,
 "nbformat_minor": 2
}
