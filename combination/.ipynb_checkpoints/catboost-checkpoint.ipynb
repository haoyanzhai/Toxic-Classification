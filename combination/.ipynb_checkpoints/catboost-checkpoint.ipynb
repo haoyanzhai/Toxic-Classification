{
 "cells": [
  {
   "cell_type": "code",
   "execution_count": 6,
   "metadata": {},
   "outputs": [
    {
     "name": "stdout",
     "output_type": "stream",
     "text": [
      "../../data/nblogreg/train_nblogreg.csv\n",
      "../../data/nblogreg/nblogreg.csv\n",
      "../../data/nbnn/train_nbnn.csv\n",
      "../../data/nbnn/nbnn.csv\n",
      "      toxic  severe_toxic   obscene    threat    insult  identity_hate  \\\n",
      "0  0.010744      0.001672  0.003580  0.000165  0.004071       0.000924   \n",
      "1  0.002284      0.000995  0.001188  0.000067  0.001180       0.000235   \n",
      "2  0.031033      0.000498  0.021042  0.000348  0.013775       0.000553   \n",
      "3  0.000497      0.000100  0.000873  0.000029  0.000385       0.000162   \n",
      "4  0.017553      0.001465  0.018992  0.000101  0.025217       0.000806   \n",
      "\n",
      "      toxic  severe_toxic   obscene        threat    insult  identity_hate  \n",
      "0  0.000473  1.535056e-05  0.000264  1.213208e-06  0.000155       0.000015  \n",
      "1  0.001564  9.673443e-05  0.000259  3.343771e-05  0.000162       0.000121  \n",
      "2  0.016867  1.114338e-05  0.011044  6.280925e-05  0.001071       0.000096  \n",
      "3  0.000063  2.725394e-07  0.000059  5.595627e-07  0.000015       0.000006  \n",
      "4  0.032954  2.827321e-03  0.013184  5.560356e-04  0.007044       0.004375  \n"
     ]
    }
   ],
   "source": [
    "import pandas as pd\n",
    "import numpy as np\n",
    "from catboost import CatBoostClassifier\n",
    "from sklearn.model_selection import train_test_split\n",
    "\n",
    "model = ['nblogreg', 'nbnn']\n",
    "label_cols = ['toxic', 'severe_toxic', 'obscene', 'threat', 'insult', 'identity_hate']\n",
    "PATH = '../../data/'\n",
    "\n",
    "train_file = PATH + model[0] + '/train_' + model[0] + '.csv'\n",
    "test_file = PATH + model[0] + '/' + model[0] + '.csv'\n",
    "print(train_file)\n",
    "print(test_file)\n",
    "\n",
    "train = pd.read_csv(train_file)[label_cols]\n",
    "test = pd.read_csv(test_file)[label_cols]\n",
    "\n",
    "for i in range(1, len(model)):\n",
    "    train_file = PATH + model[i] + '/train_' + model[i] + '.csv'\n",
    "    test_file = PATH + model[i] + '/' + model[i] + '.csv'\n",
    "    print(train_file)\n",
    "    print(test_file)\n",
    "\n",
    "    train = pd.concat([train, pd.read_csv(train_file)[label_cols]], axis=1)\n",
    "    test = pd.concat([test, pd.read_csv(test_file)[label_cols]], axis=1)    \n",
    "\n",
    "y = pd.read_csv(PATH + 'train.csv')[label_cols]\n",
    "    \n",
    "print(train.head())"
   ]
  },
  {
   "cell_type": "code",
   "execution_count": 16,
   "metadata": {},
   "outputs": [
    {
     "name": "stderr",
     "output_type": "stream",
     "text": [
      "/Users/haoyanzhai/Documents/work/venv/lib/python3.6/site-packages/catboost/core.py:533: FutureWarning: The 'verbose' parameter is deprecated, use 'logging_level' parameter instead (possible values: 'Silent', 'Verbose', 'Info', 'Debug').\n",
      "  warnings.warn(\"The 'verbose' parameter is deprecated, use 'logging_level' parameter instead (possible values: 'Silent', 'Verbose', 'Info', 'Debug').\", FutureWarning)\n"
     ]
    },
    {
     "name": "stdout",
     "output_type": "stream",
     "text": [
      "0:\tlearn: 0.1035007\ttest: 0.0994751\tbest: 0.0994751 (0)\ttotal: 307ms\tremaining: 307ms\n",
      "1:\tlearn: 0.0973920\ttest: 0.0949252\tbest: 0.0949252 (1)\ttotal: 664ms\tremaining: 0us\n",
      "\n",
      "bestTest = 0.09492518297\n",
      "bestIteration = 1\n",
      "\n",
      "Shrink model to first 2 iterations.\n",
      "0:\tlearn: 0.0187259\ttest: 0.0203716\tbest: 0.0203716 (0)\ttotal: 285ms\tremaining: 285ms\n",
      "1:\tlearn: 0.0173660\ttest: 0.0194504\tbest: 0.0194504 (1)\ttotal: 581ms\tremaining: 0us\n",
      "\n",
      "bestTest = 0.01945040417\n",
      "bestIteration = 1\n",
      "\n",
      "Shrink model to first 2 iterations.\n",
      "0:\tlearn: 0.0558708\ttest: 0.0571707\tbest: 0.0571707 (0)\ttotal: 399ms\tremaining: 399ms\n",
      "1:\tlearn: 0.0505905\ttest: 0.0511708\tbest: 0.0511708 (1)\ttotal: 832ms\tremaining: 0us\n",
      "\n",
      "bestTest = 0.0511707841\n",
      "bestIteration = 1\n",
      "\n",
      "Shrink model to first 2 iterations.\n",
      "0:\tlearn: 0.0085228\ttest: 0.0073064\tbest: 0.0073064 (0)\ttotal: 283ms\tremaining: 283ms\n",
      "1:\tlearn: 0.0055553\ttest: 0.0046949\tbest: 0.0046949 (1)\ttotal: 576ms\tremaining: 0us\n",
      "\n",
      "bestTest = 0.004694885543\n",
      "bestIteration = 1\n",
      "\n",
      "Shrink model to first 2 iterations.\n",
      "0:\tlearn: 0.0690617\ttest: 0.0702343\tbest: 0.0702343 (0)\ttotal: 474ms\tremaining: 474ms\n",
      "1:\tlearn: 0.0629056\ttest: 0.0645913\tbest: 0.0645913 (1)\ttotal: 858ms\tremaining: 0us\n",
      "\n",
      "bestTest = 0.06459134885\n",
      "bestIteration = 1\n",
      "\n",
      "Shrink model to first 2 iterations.\n",
      "0:\tlearn: 0.0158656\ttest: 0.0170792\tbest: 0.0170792 (0)\ttotal: 296ms\tremaining: 296ms\n",
      "1:\tlearn: 0.0136524\ttest: 0.0154706\tbest: 0.0154706 (1)\ttotal: 592ms\tremaining: 0us\n",
      "\n",
      "bestTest = 0.01547057655\n",
      "bestIteration = 1\n",
      "\n",
      "Shrink model to first 2 iterations.\n",
      "done\n"
     ]
    }
   ],
   "source": [
    "X_train, X_test, y_train, y_test = train_test_split(train, y, test_size=0.2, random_state=42)\n",
    "\n",
    "out = np.zeros((test.shape[0], len(label_cols)))\n",
    "for i, j in enumerate(label_cols):\n",
    "    print('fit' + j)\n",
    "    ensemble = CatBoostClassifier(iterations=2,\n",
    "                                  depth=10, \n",
    "                                  learning_rate=1, \n",
    "                                  loss_function='Logloss')\n",
    "    ensemble.fit(X_train, y_train[j], use_best_model=True, eval_set=[X_test, y_test[j]], verbose=1)\n",
    "    out[:, i] = ensemble.predict_proba(test.values)[:, 1]\n",
    "\n",
    "print('done')"
   ]
  },
  {
   "cell_type": "code",
   "execution_count": 17,
   "metadata": {},
   "outputs": [
    {
     "name": "stdout",
     "output_type": "stream",
     "text": [
      "[[  9.88560720e-01   1.57462479e-01   9.32625625e-01   6.99716735e-04\n",
      "    9.33993116e-01   5.74468101e-01]\n",
      " [  1.61921409e-04   4.31154792e-05   2.43151022e-03   3.84230353e-06\n",
      "    2.11472232e-04   6.49072827e-06]\n",
      " [  2.81487512e-04   1.04967663e-03   8.58766571e-04   1.60476909e-05\n",
      "    4.51090665e-04   3.89340254e-05]\n",
      " ..., \n",
      " [  2.81487512e-04   2.79129932e-05   1.01411174e-03   3.77105049e-06\n",
      "    1.91220564e-04   6.49072827e-06]\n",
      " [  1.26144748e-02   1.80522833e-04   3.06371249e-03   1.61474974e-04\n",
      "    7.69804554e-03   6.07999586e-05]\n",
      " [  9.88560720e-01   1.52397478e-02   7.91709011e-01   1.06761357e-02\n",
      "    2.22365160e-01   2.14228791e-03]]\n"
     ]
    }
   ],
   "source": [
    "print(out)"
   ]
  },
  {
   "cell_type": "code",
   "execution_count": 18,
   "metadata": {},
   "outputs": [],
   "source": [
    "submission = pd.read_csv(PATH + 'sample_submission.csv')\n",
    "submission[label_cols] = out\n",
    "submission.to_csv(PATH + 'ensemble/ensemble.csv', index=False)\n",
    "print('done')"
   ]
  }
 ],
 "metadata": {
  "kernelspec": {
   "display_name": "Python 3",
   "language": "python",
   "name": "python3"
  },
  "language_info": {
   "codemirror_mode": {
    "name": "ipython",
    "version": 3
   },
   "file_extension": ".py",
   "mimetype": "text/x-python",
   "name": "python",
   "nbconvert_exporter": "python",
   "pygments_lexer": "ipython3",
   "version": "3.6.3"
  }
 },
 "nbformat": 4,
 "nbformat_minor": 2
}
