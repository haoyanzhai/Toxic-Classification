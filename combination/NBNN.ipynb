{
 "cells": [
  {
   "cell_type": "code",
   "execution_count": 1,
   "metadata": {},
   "outputs": [
    {
     "name": "stderr",
     "output_type": "stream",
     "text": [
      "Using TensorFlow backend.\n"
     ]
    }
   ],
   "source": [
    "import pandas as pd\n",
    "import numpy as np\n",
    "from nltk.corpus import stopwords\n",
    "from nltk.tokenize import TweetTokenizer\n",
    "from sklearn.feature_extraction.text import TfidfVectorizer\n",
    "from sklearn.linear_model import LogisticRegression\n",
    "from scipy.sparse import csr_matrix\n",
    "from keras import regularizers\n",
    "from keras.models import Model\n",
    "from keras.layers import Dense, Input, Dropout, Embedding, concatenate\n",
    "from keras.callbacks import EarlyStopping, ModelCheckpoint\n",
    "from scipy.sparse import csr_matrix, hstack"
   ]
  },
  {
   "cell_type": "code",
   "execution_count": 2,
   "metadata": {},
   "outputs": [
    {
     "name": "stdout",
     "output_type": "stream",
     "text": [
      "reading data\n",
      "data cleaning\n",
      "calculations\n",
      "(159571, 26)\n",
      "(153164, 20)\n"
     ]
    }
   ],
   "source": [
    "PATH = '../../data/'\n",
    "\n",
    "print('reading data')\n",
    "\n",
    "train = pd.read_csv(PATH + 'cleaned_train.csv')\n",
    "test = pd.read_csv(PATH + 'cleaned_test.csv')\n",
    "\n",
    "print('data cleaning')\n",
    "\n",
    "tok = TweetTokenizer()\n",
    "stopword = set(stopwords.words(\"english\"))\n",
    "\n",
    "def clean(comment):\n",
    "    text = tok.tokenize(comment)\n",
    "    text = [w for w in text if not w in stopword]\n",
    "    text = ' '.join(text)\n",
    "    if text == '': text = 'na'\n",
    "    return text\n",
    "\n",
    "train['comment_text_cleaned'] = train['comment_text_cleaned'].apply(lambda x: clean(x))\n",
    "test['comment_text_cleaned'] = test['comment_text_cleaned'].apply(lambda x: clean(x))\n",
    "\n",
    "print('calculations')\n",
    "\n",
    "train_sentence = train['comment_text_cleaned']\n",
    "test_sentence = test['comment_text_cleaned']\n",
    "\n",
    "def f(x):\n",
    "    x = tok.tokenize(x)\n",
    "    return len(x)\n",
    "\n",
    "text = pd.concat([train_sentence, test_sentence])\n",
    "\n",
    "print(train.shape)\n",
    "print(test.shape)"
   ]
  },
  {
   "cell_type": "code",
   "execution_count": 3,
   "metadata": {},
   "outputs": [
    {
     "name": "stdout",
     "output_type": "stream",
     "text": [
      "getting tfidf\n",
      "fitting char\n",
      "fitting phrase\n",
      "transforming train char\n",
      "transforming train phrase\n",
      "transforming test char\n",
      "transforming test phrase\n"
     ]
    },
    {
     "data": {
      "text/plain": [
       "<159571x5000 sparse matrix of type '<class 'numpy.float64'>'\n",
       "\twith 3351156 stored elements in Compressed Sparse Row format>"
      ]
     },
     "execution_count": 3,
     "metadata": {},
     "output_type": "execute_result"
    }
   ],
   "source": [
    "# TfidfVectorizer(input=’content’, encoding=’utf-8’, decode_error=’strict’, strip_accents=None,\\\n",
    "#                 lowercase=True, preprocessor=None, tokenizer=None, analyzer=’word’, stop_words=None,\\\n",
    "#                 token_pattern=’(?u)\\b\\w\\w+\\b’, ngram_range=(1, 1), max_df=1.0, min_df=1, max_features=None,\\\n",
    "#                 vocabulary=None, binary=False, dtype=<class ‘numpy.int64’>, norm=’l2’, use_idf=True,\\\n",
    "#                 smooth_idf=True, sublinear_tf=False)\n",
    "\n",
    "print('getting tfidf')\n",
    "char_vectorizer = TfidfVectorizer(ngram_range=(1,1), stop_words='english', max_df=0.9, min_df=100,\\\n",
    "                                  strip_accents='unicode', use_idf=1, smooth_idf=1, sublinear_tf=1,\n",
    "                                  max_features=2000)\n",
    "phrase_vectorizer = TfidfVectorizer(ngram_range=(2,3), stop_words='english', max_df=0.9, min_df=100,\\\n",
    "                                    strip_accents='unicode', use_idf=1, smooth_idf=1, sublinear_tf=1,\\\n",
    "                                    max_features=3000)\n",
    "print('fitting char')\n",
    "char_vectorizer.fit(text.values)\n",
    "print('fitting phrase')\n",
    "phrase_vectorizer.fit(text.values)\n",
    "print('transforming train char')\n",
    "train_char = char_vectorizer.transform(train['comment_text_cleaned'].values)\n",
    "print('transforming train phrase')\n",
    "train_phrase = phrase_vectorizer.transform(train['comment_text_cleaned'].values)\n",
    "print('transforming test char')\n",
    "test_char = char_vectorizer.transform(test['comment_text_cleaned'].values)\n",
    "print('transforming test phrase')\n",
    "test_phrase = phrase_vectorizer.transform(test['comment_text_cleaned'].values)\n",
    "\n",
    "train_tfidf = hstack((train_char, train_phrase), format='csr')\n",
    "test_tfidf = hstack((test_char, test_phrase), format='csr')\n",
    "\n",
    "label_cols = ['toxic', 'severe_toxic', 'obscene', 'threat', 'insult', 'identity_hate']\n",
    "\n",
    "train_tfidf"
   ]
  },
  {
   "cell_type": "code",
   "execution_count": 4,
   "metadata": {},
   "outputs": [
    {
     "name": "stdout",
     "output_type": "stream",
     "text": [
      "combine featrues\n",
      "getting train features\n",
      "gettingtest features\n"
     ]
    },
    {
     "data": {
      "text/plain": [
       "[<159571x5000 sparse matrix of type '<class 'numpy.float64'>'\n",
       " \twith 3351156 stored elements in Compressed Sparse Row format>,\n",
       " <159571x16 sparse matrix of type '<class 'numpy.int64'>'\n",
       " \twith 1208018 stored elements in Compressed Sparse Row format>]"
      ]
     },
     "execution_count": 4,
     "metadata": {},
     "output_type": "execute_result"
    }
   ],
   "source": [
    "print('combine featrues')\n",
    "other_feature_cols = ['word_count', 'unique_word_count', 'consecutive_question_marks',\\\n",
    "                      'consecutive_exclamation_marks', 'uppercase_letters', 'ellipsis',\\\n",
    "                      'period', 'parentheses_paird', 'cleaned_word_count', 'cleaned_unique_word_count',\\\n",
    "                      'cleaned_consecutive_question_marks', 'cleaned_consecutive_exclamation_marks',\\\n",
    "                      'cleaned_uppercase_letters', 'cleaned_ellipsis', 'cleaned_period', 'cleaned_parentheses_pair']\n",
    "\n",
    "print('getting train features')\n",
    "train_features = [train_tfidf, csr_matrix(train[other_feature_cols].values)]\n",
    "# train_features = train_tfidf\n",
    "\n",
    "print('gettingtest features')\n",
    "test_features = [test_tfidf, csr_matrix(test[other_feature_cols].values)]\n",
    "# test_features = test_tfidf\n",
    "\n",
    "train_features"
   ]
  },
  {
   "cell_type": "code",
   "execution_count": 6,
   "metadata": {},
   "outputs": [
    {
     "name": "stdout",
     "output_type": "stream",
     "text": [
      "done\n"
     ]
    }
   ],
   "source": [
    "def pr(y_i, y, train_features):\n",
    "    p = train_features[y==y_i].sum(0)\n",
    "    return (p + 1) / ((y == y_i).sum() + 1)\n",
    "\n",
    "def get_nn_model(inp1_len, inp2_len):\n",
    "    input = [Input(shape=(inp1_len,), sparse=True), Input(shape=(inp2_len,), sparse=True)]\n",
    "    x1 = Dense(200, activation='relu')(input[0])\n",
    "    x1 = Dense(200, activation='relu')(x1)\n",
    "    x2 = Dense(200, activation='relu')(input[1])\n",
    "    x2 = Dense(200, activation='relu')(x2)\n",
    "    x = Dense(200, activation='relu')(concatenate([x1, x2]))\n",
    "    x = Dropout(0.2)(x)\n",
    "    x = Dense(100, activation='relu', kernel_regularizer=regularizers.l2(0.0001))(x)\n",
    "    x = Dense(2, activation='sigmoid')(x)\n",
    "    model = Model(inputs=input, outputs=x)\n",
    "    model.compile(loss='binary_crossentropy',\n",
    "                  optimizer='adam',\n",
    "                  metrics=['accuracy'])\n",
    "\n",
    "    return model\n",
    "\n",
    "def train_model(model, file_path, batch_size, epochs, X_train, y):\n",
    "    checkpoint = ModelCheckpoint(file_path, monitor='val_loss', verbose=1, save_best_only=True, mode='min')\n",
    "    earlystopping = EarlyStopping(monitor=\"val_loss\", mode=\"min\", patience=20)\n",
    "    callbacks_list = [checkpoint, earlystopping]\n",
    "    model.fit(X_train, y, batch_size=batch_size, epochs=epochs, validation_split=0.2, callbacks=callbacks_list)\n",
    "    return model\n",
    "\n",
    "def predict(model, file_path, X_test):\n",
    "    model.load_weights(file_path)\n",
    "    return model.predict(X_test, verbose=1)\n",
    "\n",
    "def run(label_cols, train_features, train, test_features, train_len, file_path, batch_size, epochs):\n",
    "    preds = np.zeros((test.shape[0], len(label_cols)))\n",
    "    preds_train = np.zeros((train.shape[0], len(label_cols)))\n",
    "    for i, j in enumerate(label_cols):\n",
    "        print('fit', j)\n",
    "        y = train[j]\n",
    "        r = np.log(pr(1, y.values, train_features[0]) / pr(0, y.values, train_features[0]))\n",
    "        y = y.to_frame()\n",
    "        y['2'] = 1 - y\n",
    "        y = y.values\n",
    "        model = get_nn_model(train_len[0], train_len[1])\n",
    "        x_nb = [train_features[0].multiply(r).tocsr(), train_features[1]]\n",
    "        model = train_model(model, file_path, batch_size, epochs, x_nb, y)\n",
    "        preds[:, i] = predict(model, file_path, [test_features[0].multiply(r).tocsr(), test_features[1]])[:, 0]\n",
    "        preds_train[:, i] = predict(model, file_path, x_nb)[:, 0]\n",
    "    return preds, preds_train\n",
    "\n",
    "def save(model_name, y_test, label_cols, path, is_train=False):\n",
    "    if is_train:\n",
    "        submission = pd.read_csv(path + 'sample_train.csv')\n",
    "        file_name = 'train_' + model_name\n",
    "    else:\n",
    "        submission = pd.read_csv(path + 'sample_submission.csv')\n",
    "        file_name = model_name\n",
    "    submission[label_cols] = y_test\n",
    "    submission.to_csv(path + model_name + '/' + file_name + '.csv', index=False)\n",
    "    \n",
    "print('done')"
   ]
  },
  {
   "cell_type": "code",
   "execution_count": null,
   "metadata": {},
   "outputs": [
    {
     "name": "stdout",
     "output_type": "stream",
     "text": [
      "predicting\n",
      "fit toxic\n",
      "Train on 127656 samples, validate on 31915 samples\n",
      "Epoch 1/2\n",
      "127648/127656 [============================>.] - ETA: 0s - loss: 0.1435 - acc: 0.9553Epoch 00001: val_loss improved from inf to 0.12387, saving model to ../../model/nn_best.hdf5\n",
      "127656/127656 [==============================] - 88s 686us/step - loss: 0.1435 - acc: 0.9553 - val_loss: 0.1239 - val_acc: 0.9576\n",
      "Epoch 2/2\n",
      " 30016/127656 [======>.......................] - ETA: 1:04 - loss: 0.1166 - acc: 0.9591"
     ]
    }
   ],
   "source": [
    "FILE_PATH = '../../model/nn_best.hdf5'\n",
    "BATCH_SIZE = 32\n",
    "EPOCHS = 2\n",
    "\n",
    "print('predicting')\n",
    "y_test, y_train = run(label_cols, train_features, train, test_features,\\\n",
    "                      [train_tfidf.shape[1], len(other_feature_cols)],\\\n",
    "                      FILE_PATH, BATCH_SIZE, EPOCHS)\n",
    "\n",
    "print('saving files')\n",
    "save('nbnn', y_test, label_cols, PATH)\n",
    "save('nbnn', y_train, label_cols, PATH, True)\n",
    "\n",
    "print('done')"
   ]
  }
 ],
 "metadata": {
  "kernelspec": {
   "display_name": "Python 3",
   "language": "python",
   "name": "python3"
  },
  "language_info": {
   "codemirror_mode": {
    "name": "ipython",
    "version": 3
   },
   "file_extension": ".py",
   "mimetype": "text/x-python",
   "name": "python",
   "nbconvert_exporter": "python",
   "pygments_lexer": "ipython3",
   "version": "3.6.3"
  }
 },
 "nbformat": 4,
 "nbformat_minor": 2
}
