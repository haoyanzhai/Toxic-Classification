{
 "cells": [
  {
   "cell_type": "code",
   "execution_count": 4,
   "metadata": {},
   "outputs": [
    {
     "name": "stdout",
     "output_type": "stream",
     "text": [
      "['Unnamed: 0' 'id' 'comment_text' 'toxic' 'severe_toxic' 'obscene' 'threat'\n",
      " 'insult' 'identity_hate' 'comment_text_cleaned' 'word_count'\n",
      " 'cleaned_word_count' 'unique_word_count' 'cleaned_unique_word_count'\n",
      " 'consecutive_question_marks' 'cleaned_consecutive_question_marks'\n",
      " 'consecutive_exclamation_marks' 'cleaned_consecutive_exclamation_marks'\n",
      " 'uppercase_letters' 'cleaned_uppercase_letters' 'ellipsis'\n",
      " 'cleaned_ellipsis' 'period' 'cleaned_period' 'parentheses_paird'\n",
      " 'cleaned_parentheses_pair']\n",
      "['Unnamed: 0' 'id' 'comment_text' 'comment_text_cleaned' 'word_count'\n",
      " 'cleaned_word_count' 'unique_word_count' 'cleaned_unique_word_count'\n",
      " 'consecutive_question_marks' 'cleaned_consecutive_question_marks'\n",
      " 'consecutive_exclamation_marks' 'cleaned_consecutive_exclamation_marks'\n",
      " 'uppercase_letters' 'cleaned_uppercase_letters' 'ellipsis'\n",
      " 'cleaned_ellipsis' 'period' 'cleaned_period' 'parentheses_paird'\n",
      " 'cleaned_parentheses_pair']\n"
     ]
    }
   ],
   "source": [
    "import pandas as pd\n",
    "import numpy as np\n",
    "\n",
    "PATH = '../../data/'\n",
    "\n",
    "train = pd.read_csv(PATH + 'cleaned_train.csv')\n",
    "test = pd.read_csv(PATH + 'cleaned_test.csv')\n",
    "\n",
    "print(train.columns.values)\n",
    "print(test.columns.values)"
   ]
  },
  {
   "cell_type": "code",
   "execution_count": 11,
   "metadata": {},
   "outputs": [
    {
     "name": "stdout",
     "output_type": "stream",
     "text": [
      "{'consecutive_question_marks': 1944, 'consecutive_exclamation_marks': 3512, 'uppercase_letters': 152999, 'ellipsis': 20, 'period': 10633, 'parentheses_paird': 7635}\n"
     ]
    }
   ],
   "source": [
    "cols = ['word_count', 'unique_word_count', 'consecutive_question_marks', 'consecutive_exclamation_marks',\\\n",
    "        'uppercase_letters', 'ellipsis', 'period', 'parentheses_paird']\n",
    "cleaned_cols = ['cleaned_word_count', 'cleaned_unique_word_count', 'cleaned_consecutive_question_marks',\\\n",
    "                'cleaned_consecutive_exclamation_marks', 'cleaned_uppercase_letters', 'cleaned_ellipsis',\\\n",
    "                'cleaned_period', 'cleaned_parentheses_pair']\n",
    "dict = {}\n",
    "for i in range(2, len(cols)):\n",
    "    dict[cols[i]] = sum(train[cols[i]] != train[cleaned_cols[i]])\n",
    "print(dict)"
   ]
  }
 ],
 "metadata": {
  "kernelspec": {
   "display_name": "Python 3",
   "language": "python",
   "name": "python3"
  },
  "language_info": {
   "codemirror_mode": {
    "name": "ipython",
    "version": 3
   },
   "file_extension": ".py",
   "mimetype": "text/x-python",
   "name": "python",
   "nbconvert_exporter": "python",
   "pygments_lexer": "ipython3",
   "version": "3.6.3"
  }
 },
 "nbformat": 4,
 "nbformat_minor": 2
}
