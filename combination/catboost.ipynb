{
 "cells": [
  {
   "cell_type": "code",
   "execution_count": 1,
   "metadata": {},
   "outputs": [
    {
     "name": "stdout",
     "output_type": "stream",
     "text": [
      "../../data/nblogreg/train_nblogreg.csv\n",
      "../../data/nblogreg/nblogreg.csv\n",
      "../../data/nbnn/train_nbnn.csv\n",
      "../../data/nbnn/nbnn.csv\n",
      "../../data/cnn/train_cnn.csv\n",
      "../../data/cnn/cnn.csv\n",
      "../../data/lstm/train_lstm.csv\n",
      "../../data/lstm/lstm.csv\n",
      "done\n"
     ]
    }
   ],
   "source": [
    "import pandas as pd\n",
    "import numpy as np\n",
    "from catboost import CatBoostClassifier\n",
    "from sklearn.model_selection import train_test_split\n",
    "\n",
    "model = ['nblogreg', 'nbnn', 'cnn', 'lstm']\n",
    "label_cols = ['toxic', 'severe_toxic', 'obscene', 'threat', 'insult', 'identity_hate']\n",
    "PATH = '../../data/'\n",
    "\n",
    "train_file = PATH + model[0] + '/train_' + model[0] + '.csv'\n",
    "test_file = PATH + model[0] + '/' + model[0] + '.csv'\n",
    "print(train_file)\n",
    "print(test_file)\n",
    "\n",
    "train = pd.read_csv(train_file)[label_cols]\n",
    "test = pd.read_csv(test_file)[label_cols]\n",
    "\n",
    "for i in range(1, len(model)):\n",
    "    train_file = PATH + model[i] + '/train_' + model[i] + '.csv'\n",
    "    test_file = PATH + model[i] + '/' + model[i] + '.csv'\n",
    "    print(train_file)\n",
    "    print(test_file)\n",
    "\n",
    "    train = pd.concat([train, pd.read_csv(train_file)[label_cols]], axis=1)\n",
    "    test = pd.concat([test, pd.read_csv(test_file)[label_cols]], axis=1)    \n",
    "\n",
    "y = pd.read_csv(PATH + 'train.csv')[label_cols]\n",
    "\n",
    "print('done')"
   ]
  },
  {
   "cell_type": "code",
   "execution_count": 4,
   "metadata": {},
   "outputs": [
    {
     "name": "stdout",
     "output_type": "stream",
     "text": [
      "fit toxic\n",
      "0:\tlearn: 0.6900042\ttest: 0.6900015\tbest: 0.6900015 (0)\ttotal: 409ms\tremaining: 818ms\n",
      "1:\tlearn: 0.6870334\ttest: 0.6870299\tbest: 0.6870299 (1)\ttotal: 855ms\tremaining: 428ms\n",
      "2:\tlearn: 0.6842185\ttest: 0.6842124\tbest: 0.6842124 (2)\ttotal: 1.27s\tremaining: 0us\n",
      "\n",
      "bestTest = 0.6842124342\n",
      "bestIteration = 2\n",
      "\n",
      "Shrink model to first 3 iterations.\n",
      "{'nblogreg toxic': 27.692309749799186, 'nblogreg severe_toxic': 2.9151213125746125, 'nblogreg obscene': 0.0, 'nblogreg threat': 1.5168054080837543, 'nblogreg insult': 0.0, 'nblogreg identity_hate': 0.0, 'nbnn toxic': 0.31070158834368655, 'nbnn severe_toxic': 3.1259900713758, 'nbnn obscene': 1.6315540182915158, 'nbnn threat': 0.0, 'nbnn insult': 0.0, 'nbnn identity_hate': 1.1173041802318364, 'cnn toxic': 0.0, 'cnn severe_toxic': 0.9327183746499648, 'cnn obscene': 13.773422199213412, 'cnn threat': 4.713490131061553, 'cnn insult': 1.6109989816193377, 'cnn identity_hate': 11.281767237427788, 'lstm toxic': 3.5394893384630706, 'lstm severe_toxic': 0.0, 'lstm obscene': 22.07825042930545, 'lstm threat': 1.2041406424257952, 'lstm insult': 2.55593633713324, 'lstm identity_hate': 0.0}\n",
      "fit severe_toxic\n",
      "0:\tlearn: 0.6889890\ttest: 0.6889836\tbest: 0.6889836 (0)\ttotal: 378ms\tremaining: 757ms\n",
      "1:\tlearn: 0.6847201\ttest: 0.6847169\tbest: 0.6847169 (1)\ttotal: 796ms\tremaining: 398ms\n",
      "2:\tlearn: 0.6809271\ttest: 0.6809217\tbest: 0.6809217 (2)\ttotal: 1.22s\tremaining: 0us\n",
      "\n",
      "bestTest = 0.6809217472\n",
      "bestIteration = 2\n",
      "\n",
      "Shrink model to first 3 iterations.\n",
      "{'nblogreg toxic': 0.11636193827895341, 'nblogreg severe_toxic': 17.39252359078999, 'nblogreg obscene': 5.645130365583972, 'nblogreg threat': 6.261481830453369, 'nblogreg insult': 0.0, 'nblogreg identity_hate': 0.0, 'nbnn toxic': 0.0, 'nbnn severe_toxic': 22.782767123958557, 'nbnn obscene': 2.3322917599393143, 'nbnn threat': 0.0, 'nbnn insult': 2.883304925175498, 'nbnn identity_hate': 3.0631586615815185, 'cnn toxic': 7.627432572507488, 'cnn severe_toxic': 2.2932401225430397, 'cnn obscene': 2.0241106949681416, 'cnn threat': 7.215409100146372, 'cnn insult': 1.7187055039364665, 'cnn identity_hate': 3.0275936313232066, 'lstm toxic': 0.0, 'lstm severe_toxic': 6.512809094419341, 'lstm obscene': 0.0, 'lstm threat': 3.283488672340195, 'lstm insult': 4.118972104605834, 'lstm identity_hate': 1.701218307448738}\n",
      "fit obscene\n",
      "0:\tlearn: 0.6894759\ttest: 0.6894725\tbest: 0.6894725 (0)\ttotal: 390ms\tremaining: 780ms\n",
      "1:\tlearn: 0.6857546\ttest: 0.6857556\tbest: 0.6857556 (1)\ttotal: 805ms\tremaining: 403ms\n",
      "2:\tlearn: 0.6823030\ttest: 0.6823030\tbest: 0.6823030 (2)\ttotal: 1.21s\tremaining: 0us\n",
      "\n",
      "bestTest = 0.682303047\n",
      "bestIteration = 2\n",
      "\n",
      "Shrink model to first 3 iterations.\n",
      "{'nblogreg toxic': 1.4099631986511791, 'nblogreg severe_toxic': 0.0, 'nblogreg obscene': 12.463922024993014, 'nblogreg threat': 2.2230278835433572, 'nblogreg insult': 0.0, 'nblogreg identity_hate': 0.7380076154304777, 'nbnn toxic': 9.318034900444744, 'nbnn severe_toxic': 0.41205994046419464, 'nbnn obscene': 4.559587401883176, 'nbnn threat': 0.0, 'nbnn insult': 0.0, 'nbnn identity_hate': 4.059771926481659, 'cnn toxic': 2.9001536807798045, 'cnn severe_toxic': 0.0, 'cnn obscene': 6.604818891652083, 'cnn threat': 0.0, 'cnn insult': 0.0, 'cnn identity_hate': 0.0, 'lstm toxic': 0.0, 'lstm severe_toxic': 0.0, 'lstm obscene': 19.445805207337745, 'lstm threat': 16.848687776146036, 'lstm insult': 1.515039320027463, 'lstm identity_hate': 17.501120232165064}\n",
      "fit threat\n",
      "0:\tlearn: 0.6886520\ttest: 0.6886502\tbest: 0.6886502 (0)\ttotal: 404ms\tremaining: 808ms\n",
      "1:\tlearn: 0.6848440\ttest: 0.6848353\tbest: 0.6848353 (1)\ttotal: 881ms\tremaining: 441ms\n",
      "2:\tlearn: 0.6811469\ttest: 0.6811372\tbest: 0.6811372 (2)\ttotal: 1.32s\tremaining: 0us\n",
      "\n",
      "bestTest = 0.6811371897\n",
      "bestIteration = 2\n",
      "\n",
      "Shrink model to first 3 iterations.\n",
      "{'nblogreg toxic': 3.324586951594724, 'nblogreg severe_toxic': 10.130188810694278, 'nblogreg obscene': 2.212873106096148, 'nblogreg threat': 9.479453613462756, 'nblogreg insult': 0.0, 'nblogreg identity_hate': 0.0, 'nbnn toxic': 4.0441319467082435, 'nbnn severe_toxic': 0.0, 'nbnn obscene': 0.25715002065615433, 'nbnn threat': 14.408295783030558, 'nbnn insult': 4.7532606449339125, 'nbnn identity_hate': 0.0, 'cnn toxic': 4.483744373913935, 'cnn severe_toxic': 10.376583697621607, 'cnn obscene': 3.48527185733155, 'cnn threat': 0.0, 'cnn insult': 4.432708646654867, 'cnn identity_hate': 2.4829287103077213, 'lstm toxic': 13.027849207590087, 'lstm severe_toxic': 1.7427367864611867, 'lstm obscene': 4.1418479353075615, 'lstm threat': 6.984149029920735, 'lstm insult': 0.23223887771395202, 'lstm identity_hate': 0.0}\n",
      "fit insult\n",
      "0:\tlearn: 0.6896515\ttest: 0.6896536\tbest: 0.6896536 (0)\ttotal: 377ms\tremaining: 754ms\n",
      "1:\tlearn: 0.6859613\ttest: 0.6859590\tbest: 0.6859590 (1)\ttotal: 785ms\tremaining: 392ms\n",
      "2:\tlearn: 0.6823350\ttest: 0.6823387\tbest: 0.6823387 (2)\ttotal: 1.19s\tremaining: 0us\n",
      "\n",
      "bestTest = 0.6823387217\n",
      "bestIteration = 2\n",
      "\n",
      "Shrink model to first 3 iterations.\n",
      "{'nblogreg toxic': 0.0, 'nblogreg severe_toxic': 0.0, 'nblogreg obscene': 0.10067640395764199, 'nblogreg threat': 0.0, 'nblogreg insult': 0.42645323176415023, 'nblogreg identity_hate': 0.0, 'nbnn toxic': 0.0, 'nbnn severe_toxic': 0.0, 'nbnn obscene': 0.5954376769903048, 'nbnn threat': 3.512603179750627, 'nbnn insult': 11.057520771779298, 'nbnn identity_hate': 3.795659692625635, 'cnn toxic': 0.0, 'cnn severe_toxic': 2.570091828136189, 'cnn obscene': 15.346825203548311, 'cnn threat': 2.699149620854193, 'cnn insult': 12.732229868189627, 'cnn identity_hate': 18.014223732401565, 'lstm toxic': 11.105409669170463, 'lstm severe_toxic': 1.1843957826560518, 'lstm obscene': 0.6003117938988197, 'lstm threat': 7.703793556338979, 'lstm insult': 1.2265917305839087, 'lstm identity_hate': 7.328626257354219}\n",
      "fit identity_hate\n",
      "0:\tlearn: 0.6893248\ttest: 0.6893277\tbest: 0.6893277 (0)\ttotal: 403ms\tremaining: 806ms\n",
      "1:\tlearn: 0.6857043\ttest: 0.6857092\tbest: 0.6857092 (1)\ttotal: 840ms\tremaining: 420ms\n",
      "2:\tlearn: 0.6817863\ttest: 0.6817915\tbest: 0.6817915 (2)\ttotal: 1.28s\tremaining: 0us\n",
      "\n",
      "bestTest = 0.681791534\n",
      "bestIteration = 2\n",
      "\n",
      "Shrink model to first 3 iterations.\n",
      "{'nblogreg toxic': 4.67385744175049, 'nblogreg severe_toxic': 4.981435039839839, 'nblogreg obscene': 2.414667099597446, 'nblogreg threat': 8.99438779636153, 'nblogreg insult': 17.692106876920626, 'nblogreg identity_hate': 29.035781315338653, 'nbnn toxic': 0.0, 'nbnn severe_toxic': 0.0, 'nbnn obscene': 0.0, 'nbnn threat': 0.0, 'nbnn insult': 0.0, 'nbnn identity_hate': 3.976129118883467, 'cnn toxic': 0.9583658396561343, 'cnn severe_toxic': 2.2312700306243496, 'cnn obscene': 4.66785712649268, 'cnn threat': 0.0, 'cnn insult': 0.9111010425029261, 'cnn identity_hate': 3.427353033783486, 'lstm toxic': 0.19842985173264732, 'lstm severe_toxic': 10.787449925482111, 'lstm obscene': 3.0385068174101995, 'lstm threat': 2.011301643623422, 'lstm insult': 0.0, 'lstm identity_hate': 0.0}\n",
      "done\n"
     ]
    }
   ],
   "source": [
    "def print_feature_importance(x, label, models):\n",
    "    dict = {}\n",
    "    for i in range(len(x)):\n",
    "        which_model = models[i // len(label)]\n",
    "        which_label = label[i % len(label)]\n",
    "        dict[(which_model + ' ' + which_label)] = x[i]\n",
    "    print(dict)\n",
    "\n",
    "X_train, X_test, y_train, y_test = train_test_split(train, y, test_size=0.2, random_state=42)\n",
    "\n",
    "out = np.zeros((test.shape[0], len(label_cols)))\n",
    "for i, j in enumerate(label_cols):\n",
    "    print('fit ' + j)\n",
    "    ensemble = CatBoostClassifier(iterations=3,\n",
    "                                  depth=10, \n",
    "                                  learning_rate=0.001, \n",
    "                                  loss_function='Logloss')\n",
    "    ensemble.fit(X_train, y_train[j], use_best_model=True, eval_set=[X_test, y_test[j]])\n",
    "    print_feature_importance(ensemble.get_feature_importance(X_train, y_train[j]), label_cols, model)\n",
    "    out[:, i] = ensemble.predict_proba(test.values)[:, 1] # TODO: should ues 1 or 0?\n",
    "\n",
    "print('done')"
   ]
  },
  {
   "cell_type": "code",
   "execution_count": 5,
   "metadata": {},
   "outputs": [
    {
     "name": "stdout",
     "output_type": "stream",
     "text": [
      "done\n"
     ]
    }
   ],
   "source": [
    "submission = pd.read_csv(PATH + 'sample_submission.csv')\n",
    "submission[label_cols] = out\n",
    "submission.to_csv(PATH + 'ensemble/catboost_ensemble.csv', index=False)\n",
    "print('done')"
   ]
  }
 ],
 "metadata": {
  "kernelspec": {
   "display_name": "Python 3",
   "language": "python",
   "name": "python3"
  },
  "language_info": {
   "codemirror_mode": {
    "name": "ipython",
    "version": 3
   },
   "file_extension": ".py",
   "mimetype": "text/x-python",
   "name": "python",
   "nbconvert_exporter": "python",
   "pygments_lexer": "ipython3",
   "version": "3.6.3"
  }
 },
 "nbformat": 4,
 "nbformat_minor": 2
}
