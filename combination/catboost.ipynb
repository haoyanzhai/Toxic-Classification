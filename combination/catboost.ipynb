{
 "cells": [
  {
   "cell_type": "code",
   "execution_count": 19,
   "metadata": {},
   "outputs": [
    {
     "name": "stdout",
     "output_type": "stream",
     "text": [
      "../../data/nblogreg/train_nblogreg.csv\n",
      "../../data/nblogreg/nblogreg.csv\n",
      "../../data/nbnn/train_nbnn.csv\n",
      "../../data/nbnn/nbnn.csv\n",
      "      toxic  severe_toxic   obscene    threat    insult  identity_hate  \\\n",
      "0  0.010744      0.001672  0.003580  0.000165  0.004071       0.000924   \n",
      "1  0.002284      0.000995  0.001188  0.000067  0.001180       0.000235   \n",
      "2  0.031033      0.000498  0.021042  0.000348  0.013775       0.000553   \n",
      "3  0.000497      0.000100  0.000873  0.000029  0.000385       0.000162   \n",
      "4  0.017553      0.001465  0.018992  0.000101  0.025217       0.000806   \n",
      "\n",
      "      toxic  severe_toxic   obscene        threat    insult  identity_hate  \n",
      "0  0.000473  1.535056e-05  0.000264  1.213208e-06  0.000155       0.000015  \n",
      "1  0.001564  9.673443e-05  0.000259  3.343771e-05  0.000162       0.000121  \n",
      "2  0.016867  1.114338e-05  0.011044  6.280925e-05  0.001071       0.000096  \n",
      "3  0.000063  2.725394e-07  0.000059  5.595627e-07  0.000015       0.000006  \n",
      "4  0.032954  2.827321e-03  0.013184  5.560356e-04  0.007044       0.004375  \n"
     ]
    }
   ],
   "source": [
    "import pandas as pd\n",
    "import numpy as np\n",
    "from catboost import CatBoostClassifier\n",
    "from sklearn.model_selection import train_test_split\n",
    "\n",
    "model = ['nblogreg', 'nbnn', 'cnn', 'lstm']\n",
    "label_cols = ['toxic', 'severe_toxic', 'obscene', 'threat', 'insult', 'identity_hate']\n",
    "PATH = '../../data/'\n",
    "\n",
    "train_file = PATH + model[0] + '/train_' + model[0] + '.csv'\n",
    "test_file = PATH + model[0] + '/' + model[0] + '.csv'\n",
    "print(train_file)\n",
    "print(test_file)\n",
    "\n",
    "train = pd.read_csv(train_file)[label_cols]\n",
    "test = pd.read_csv(test_file)[label_cols]\n",
    "\n",
    "for i in range(1, len(model)):\n",
    "    train_file = PATH + model[i] + '/train_' + model[i] + '.csv'\n",
    "    test_file = PATH + model[i] + '/' + model[i] + '.csv'\n",
    "    print(train_file)\n",
    "    print(test_file)\n",
    "\n",
    "    train = pd.concat([train, pd.read_csv(train_file)[label_cols]], axis=1)\n",
    "    test = pd.concat([test, pd.read_csv(test_file)[label_cols]], axis=1)    \n",
    "\n",
    "y = pd.read_csv(PATH + 'train.csv')[label_cols]\n",
    "\n",
    "print('done')"
   ]
  },
  {
   "cell_type": "code",
   "execution_count": 22,
   "metadata": {},
   "outputs": [
    {
     "name": "stdout",
     "output_type": "stream",
     "text": [
      "fit toxic\n"
     ]
    },
    {
     "name": "stderr",
     "output_type": "stream",
     "text": [
      "/Users/haoyanzhai/Documents/work/venv/lib/python3.6/site-packages/catboost/core.py:533: FutureWarning: The 'verbose' parameter is deprecated, use 'logging_level' parameter instead (possible values: 'Silent', 'Verbose', 'Info', 'Debug').\n",
      "  warnings.warn(\"The 'verbose' parameter is deprecated, use 'logging_level' parameter instead (possible values: 'Silent', 'Verbose', 'Info', 'Debug').\", FutureWarning)\n"
     ]
    },
    {
     "name": "stdout",
     "output_type": "stream",
     "text": [
      "0:\tlearn: 0.0998597\ttest: 0.0991662\tbest: 0.0991662 (0)\ttotal: 269ms\tremaining: 269ms\n",
      "1:\tlearn: 0.0962741\ttest: 0.0951578\tbest: 0.0951578 (1)\ttotal: 588ms\tremaining: 0us\n",
      "\n",
      "bestTest = 0.09515779994\n",
      "bestIteration = 1\n",
      "\n",
      "Shrink model to first 2 iterations.\n",
      "fit severe_toxic\n",
      "0:\tlearn: 0.0232647\ttest: 0.0238527\tbest: 0.0238527 (0)\ttotal: 307ms\tremaining: 307ms\n",
      "1:\tlearn: 0.0176526\ttest: 0.0198430\tbest: 0.0198430 (1)\ttotal: 572ms\tremaining: 0us\n",
      "\n",
      "bestTest = 0.01984302806\n",
      "bestIteration = 1\n",
      "\n",
      "Shrink model to first 2 iterations.\n",
      "fit obscene\n",
      "0:\tlearn: 0.0538721\ttest: 0.0539248\tbest: 0.0539248 (0)\ttotal: 301ms\tremaining: 301ms\n",
      "1:\tlearn: 0.0496647\ttest: 0.0497281\tbest: 0.0497281 (1)\ttotal: 615ms\tremaining: 0us\n",
      "\n",
      "bestTest = 0.04972813464\n",
      "bestIteration = 1\n",
      "\n",
      "Shrink model to first 2 iterations.\n",
      "fit threat\n",
      "0:\tlearn: 0.0156799\ttest: 0.0128009\tbest: 0.0128009 (0)\ttotal: 785ms\tremaining: 785ms\n",
      "1:\tlearn: 0.0162934\ttest: 0.0102531\tbest: 0.0102531 (1)\ttotal: 1.18s\tremaining: 0us\n",
      "\n",
      "bestTest = 0.01025308027\n",
      "bestIteration = 1\n",
      "\n",
      "Shrink model to first 2 iterations.\n",
      "fit insult\n",
      "0:\tlearn: 0.0708318\ttest: 0.0719731\tbest: 0.0719731 (0)\ttotal: 320ms\tremaining: 320ms\n",
      "1:\tlearn: 0.0647861\ttest: 0.0661964\tbest: 0.0661964 (1)\ttotal: 656ms\tremaining: 0us\n",
      "\n",
      "bestTest = 0.06619641602\n",
      "bestIteration = 1\n",
      "\n",
      "Shrink model to first 2 iterations.\n",
      "fit identity_hate\n",
      "0:\tlearn: 0.0204620\ttest: 0.0221877\tbest: 0.0221877 (0)\ttotal: 295ms\tremaining: 295ms\n",
      "1:\tlearn: 0.0198717\ttest: 0.0239863\tbest: 0.0221877 (0)\ttotal: 589ms\tremaining: 0us\n",
      "\n",
      "bestTest = 0.02218773518\n",
      "bestIteration = 0\n",
      "\n",
      "Shrink model to first 1 iterations.\n",
      "done\n"
     ]
    }
   ],
   "source": [
    "X_train, X_test, y_train, y_test = train_test_split(train, y, test_size=0.2, random_state=42)\n",
    "\n",
    "out = np.zeros((test.shape[0], len(label_cols)))\n",
    "for i, j in enumerate(label_cols):\n",
    "    print('fit ' + j)\n",
    "    ensemble = CatBoostClassifier(iterations=2,\n",
    "                                  depth=10, \n",
    "                                  learning_rate=1, \n",
    "                                  loss_function='Logloss')\n",
    "    ensemble.fit(X_train, y_train[j], use_best_model=True, eval_set=[X_test, y_test[j]], verbose=1)\n",
    "    out[:, i] = ensemble.predict_proba(test.values)[:, 1] # TODO: should ues 1 or 0?\n",
    "\n",
    "print('done')"
   ]
  },
  {
   "cell_type": "code",
   "execution_count": 23,
   "metadata": {},
   "outputs": [
    {
     "name": "stdout",
     "output_type": "stream",
     "text": [
      "done\n"
     ]
    }
   ],
   "source": [
    "submission = pd.read_csv(PATH + 'sample_submission.csv')\n",
    "submission[label_cols] = out\n",
    "submission.to_csv(PATH + 'ensemble/ensemble.csv', index=False)\n",
    "print('done')"
   ]
  }
 ],
 "metadata": {
  "kernelspec": {
   "display_name": "Python 3",
   "language": "python",
   "name": "python3"
  },
  "language_info": {
   "codemirror_mode": {
    "name": "ipython",
    "version": 3
   },
   "file_extension": ".py",
   "mimetype": "text/x-python",
   "name": "python",
   "nbconvert_exporter": "python",
   "pygments_lexer": "ipython3",
   "version": "3.6.3"
  }
 },
 "nbformat": 4,
 "nbformat_minor": 2
}
