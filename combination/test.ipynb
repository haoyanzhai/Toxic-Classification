{
 "cells": [
  {
   "cell_type": "code",
   "execution_count": 13,
   "metadata": {},
   "outputs": [],
   "source": [
    "APO = {\n",
    "    \"aren't\" : \"are not\",\n",
    "    \"can't\" : \"cannot\",\n",
    "    \"couldn't\" : \"could not\",\n",
    "    \"didn't\" : \"did not\",\n",
    "    \"doesn't\" : \"does not\",\n",
    "    \"don't\" : \"do not\",\n",
    "    \"hadn't\" : \"had not\",\n",
    "    \"hasn't\" : \"has not\",\n",
    "    \"haven't\" : \"have not\",\n",
    "    \"he'd\" : \"he would\",\n",
    "    \"he'll\" : \"he will\",\n",
    "    \"he's\" : \"he is\",\n",
    "    \"i'd\" : \"I would\",\n",
    "    \"i'd\" : \"I had\",\n",
    "    \"i'll\" : \"I will\",\n",
    "    \"i'm\" : \"I am\",\n",
    "    \"isn't\" : \"is not\",\n",
    "    \"it's\" : \"it is\",\n",
    "    \"it'll\":\"it will\",\n",
    "    \"i've\" : \"I have\",\n",
    "    \"let's\" : \"let us\",\n",
    "    \"mightn't\" : \"might not\",\n",
    "    \"mustn't\" : \"must not\",\n",
    "    \"shan't\" : \"shall not\",\n",
    "    \"she'd\" : \"she would\",\n",
    "    \"she'll\" : \"she will\",\n",
    "    \"she's\" : \"she is\",\n",
    "    \"shouldn't\" : \"should not\",\n",
    "    \"that's\" : \"that is\",\n",
    "    \"there's\" : \"there is\",\n",
    "    \"they'd\" : \"they would\",\n",
    "    \"they'll\" : \"they will\",\n",
    "    \"they're\" : \"they are\",\n",
    "    \"they've\" : \"they have\",\n",
    "    \"we'd\" : \"we would\",\n",
    "    \"we're\" : \"we are\",\n",
    "    \"weren't\" : \"were not\",\n",
    "    \"we've\" : \"we have\",\n",
    "    \"what'll\" : \"what will\",\n",
    "    \"what're\" : \"what are\",\n",
    "    \"what's\" : \"what is\",\n",
    "    \"what've\" : \"what have\",\n",
    "    \"where's\" : \"where is\",\n",
    "    \"who'd\" : \"who would\",\n",
    "    \"who'll\" : \"who will\",\n",
    "    \"who're\" : \"who are\",\n",
    "    \"who's\" : \"who is\",\n",
    "    \"who've\" : \"who have\",\n",
    "    \"won't\" : \"will not\",\n",
    "    \"wouldn't\" : \"would not\",\n",
    "    \"you'd\" : \"you would\",\n",
    "    \"you'll\" : \"you will\",\n",
    "    \"you're\" : \"you are\",\n",
    "    \"you've\" : \"you have\",\n",
    "    \"'re\": \" are\",\n",
    "    \"wasn't\": \"was not\",\n",
    "    \"we'll\":\" will\",\n",
    "    \"didn't\": \"did not\",\n",
    "    \"tryin'\":\"trying\",\n",
    "    \"u\": \"you\",\n",
    "    \"r\": \"are\"\n",
    "}"
   ]
  },
  {
   "cell_type": "code",
   "execution_count": 17,
   "metadata": {},
   "outputs": [
    {
     "name": "stdout",
     "output_type": "stream",
     "text": [
      "\"\n",
      "\n",
      " Camille Paglia: sex-positive feminist \n",
      "\n",
      "Here are the supporting links you asked for, you stupid twit!\n",
      "\n",
      "http://www.lotl.com/content/paglia.htm\n",
      "\n",
      "http://www.reference.com/browse/wiki/Sex-positive_feminism\n",
      "\n",
      "If you are too lazy and full of yourself to read them in their entirety then I will just post the relevant sections here:\n",
      "\n",
      "Camille Paglia: \"\"On the other hand I’ve been saying in public for five years ago, as someone who’s endorsed prostitutes and strippers and that whole extreme of sex-positive experience, that I’m concerned about the effect on young people – people growing up from 8, 10, 14 in a climate where it’s gone to the opposite direction. I’m already out there concerned about this so I’m really outraged to be stereotyped in that way by her because I am a career teacher and yes, when you have a situation where commercialised sex is being pushed without a true eroticism…I’ve been saying this for years, that we have got to a point of meaningless exhibitionism without real eroticism. I’m for eroticism.\"\" \n",
      "\n",
      "Camille Paglia is a major American social critic. Paglia's academic writing focuses on the role of vibrant dangerous sexuality in human history. Paglia's key importance to sex-positive feminism is not only her writings on sex, but her advocacy of \"\"traditional\"\" values like canon texts. Paglia is somewhat of an intellectual enigma, a conservative and academic feminist, who revels in low and high culture alike and celebrates sexualities disapproved of by mainstream Western culture. Paglia has, in many ways, presented a \"\"respectable\"\" face for pro-sex feminism to the world at large.\"\n",
      "\n",
      "['camille', 'paglia', ':', 'sex', 'positive', 'feminist', 'here', 'are', 'the', 'supporting', 'links', 'you', 'asked', 'for', 'you', 'stupid', 'twit', '!', 'positive_feminism', 'if', 'you', 'are', 'too', 'lazy', 'and', 'full', 'of', 'yourself', 'to', 'read', 'them', 'in', 'their', 'entirety', 'then', 'i', 'will', 'just', 'post', 'the', 'relevant', 'sections', 'here', ':', 'camille', 'paglia', ':', 'on', 'the', 'other', 'hand', 'i', '’', 've', 'been', 'saying', 'in', 'public', 'for', 'five', 'years', 'ago', 'as', 'someone', 'who', '’', 's', 'endorsed', 'prostitutes', 'and', 'strippers', 'and', 'that', 'whole', 'extreme', 'of', 'sex', 'positive', 'experience', 'that', 'i', '’', 'm', 'concerned', 'about', 'the', 'effect', 'on', 'young', 'people', '–', 'people', 'growing', 'up', 'from', '8', '10', '14', 'in', 'a', 'climate', 'where', 'it', '’', 's', 'gone', 'to', 'the', 'opposite', 'direction', '.', 'i', '’', 'm', 'already', 'out', 'there', 'concerned', 'about', 'this', 'so', 'i', '’', 'm', 'really', 'outraged', 'to', 'be', 'stereotyped', 'in', 'that', 'way', 'by', 'her', 'because', 'i', 'am', 'a', 'career', 'teacher', 'and', 'yes', 'when', 'you', 'have', 'a', 'situation', 'where', 'commercialised', 'sex', 'is', 'being', 'pushed', 'without', 'a', 'true', 'eroticism', '…', 'i', '’', 've', 'been', 'saying', 'this', 'for', 'years', 'that', 'we', 'have', 'got', 'to', 'a', 'point', 'of', 'meaningless', 'exhibitionism', 'without', 'real', 'eroticism', '.', 'i', '’', 'm', 'for', 'eroticism', '.', 'camille', 'paglia', 'is', 'a', 'major', 'american', 'social', 'critic', '.', \"paglia's\", 'academic', 'writing', 'focuses', 'on', 'the', 'role', 'of', 'vibrant', 'dangerous', 'sexuality', 'in', 'human', 'history', '.', \"paglia's\", 'key', 'importance', 'to', 'sex', 'positive', 'feminism', 'is', 'not', 'only', 'her', 'writings', 'on', 'sex', 'but', 'her', 'advocacy', 'of', 'traditional', 'values', 'like', 'canon', 'texts', '.', 'paglia', 'is', 'somewhat', 'of', 'an', 'intellectual', 'enigma', 'a', 'conservative', 'and', 'academic', 'feminist', 'who', 'revels', 'in', 'low', 'and', 'high', 'culture', 'alike', 'and', 'celebrates', 'sexualities', 'disapproved', 'of', 'by', 'mainstream', 'western', 'culture', '.', 'paglia', 'has', 'in', 'many', 'ways', 'presented', 'a', 'respectable', 'face', 'for', 'pro', 'sex', 'feminism', 'to', 'the', 'world', 'at', 'large', '.']\n",
      "[ \"camille paglia : sex positive feminist here be the support link you ask for you stupid twit ! positive_feminism if you be too lazy and full of yourself to read them in their entirety then i will just post the relevant section here : camille paglia : on the other hand i ’ ve be say in public for five years ago as someone who ’ s endorse prostitute and strippers and that whole extreme of sex positive experience that i ’ m concern about the effect on young people – people grow up from 8 10 14 in a climate where it ’ s go to the opposite direction . i ’ m already out there concern about this so i ’ m really outrage to be stereotype in that way by her because i be a career teacher and yes when you have a situation where commercialise sex be be push without a true eroticism … i ’ ve be say this for years that we have get to a point of meaningless exhibitionism without real eroticism . i ’ m for eroticism . camille paglia be a major american social critic . paglia's academic write focus on the role of vibrant dangerous sexuality in human history . paglia's key importance to sex positive feminism be not only her write on sex but her advocacy of traditional value like canon texts . paglia be somewhat of an intellectual enigma a conservative and academic feminist who revel in low and high culture alike and celebrate sexualities disapprove of by mainstream western culture . paglia have in many ways present a respectable face for pro sex feminism to the world at large .\"]\n"
     ]
    }
   ],
   "source": [
    "import pandas as pd\n",
    "import numpy as np\n",
    "from nltk.stem.wordnet import WordNetLemmatizer\n",
    "from nltk.tokenize import TweetTokenizer\n",
    "import re\n",
    "\n",
    "lem = WordNetLemmatizer()\n",
    "tok = TweetTokenizer()\n",
    "\n",
    "x = pd.read_csv('../../data/sorted/toxic.csv')\n",
    "\n",
    "print(x.loc[141, 'comment_text'])\n",
    "print()\n",
    "def clean(comment):\n",
    "    comment = comment.lower()\n",
    "    comment = re.sub(r'\\n+', ' ', comment)\n",
    "    comment = re.sub('\\d{1,3}.\\d{1,3}.\\d{1,3}.\\d{1,3}', '',comment) # remove leaky elements like ip,user\n",
    "    comment = re.sub('\\[\\[.*\\]', '',comment)    #removing usernames\n",
    "    comment = re.sub('[=\",~]', '', comment)\n",
    "    comment = re.sub(' +', ' ', comment)\n",
    "    comment = re.sub('-', ' ', comment)\n",
    "    text = tok.tokenize(comment)\n",
    "    text = [word for word in  text if not re.match(r'http:\\/\\/.*', word)]\n",
    "    print(text)\n",
    "    text = [APO[word] if word in APO else word for word in text]\n",
    "    text = tok.tokenize(' '.join(text))\n",
    "    text = [lem.lemmatize(word, 'v') for word in text]\n",
    "    text = ' '.join(text).lower()\n",
    "    if text == '': text = 'na'\n",
    "    return text\n",
    "\n",
    "a = x.iloc[141 : 142]['comment_text'].apply(clean)\n",
    "\n",
    "# x.loc[0, 'comment_text'] = 'i    am    a    cat'\n",
    "# b = x.iloc[0 : 1]['comment_text'].apply(clean)\n",
    "print(a.values)"
   ]
  },
  {
   "cell_type": "code",
   "execution_count": 2,
   "metadata": {},
   "outputs": [
    {
     "name": "stdout",
     "output_type": "stream",
     "text": [
      "fuckkkking\n"
     ]
    }
   ],
   "source": [
    "import re\n",
    "from nltk.stem.wordnet import WordNetLemmatizer\n",
    "\n",
    "lem = WordNetLemmatizer()\n",
    "\n",
    "print(lem.lemmatize('fucking', 'v'))"
   ]
  }
 ],
 "metadata": {
  "kernelspec": {
   "display_name": "Python 3",
   "language": "python",
   "name": "python3"
  },
  "language_info": {
   "codemirror_mode": {
    "name": "ipython",
    "version": 3
   },
   "file_extension": ".py",
   "mimetype": "text/x-python",
   "name": "python",
   "nbconvert_exporter": "python",
   "pygments_lexer": "ipython3",
   "version": "3.6.3"
  }
 },
 "nbformat": 4,
 "nbformat_minor": 2
}
