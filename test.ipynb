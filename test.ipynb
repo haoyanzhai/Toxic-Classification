{
 "cells": [
  {
   "cell_type": "code",
   "execution_count": 6,
   "metadata": {},
   "outputs": [
    {
     "name": "stdout",
     "output_type": "stream",
     "text": [
      "['a cat', 'a dog', 'am a', 'he is', 'i am', 'is a']\n"
     ]
    }
   ],
   "source": [
    "from sklearn.feature_extraction.text import CountVectorizer, TfidfVectorizer\n",
    "from sklearn.feature_selection import SelectKBest, chi2\n",
    "\n",
    "inp = ['I am a cat', 'He is a dog']\n",
    "\n",
    "def f(t):\n",
    "    return t.split()\n",
    "\n",
    "s = TfidfVectorizer(ngram_range=(2,2), tokenizer=f,\\\n",
    "                    max_df=0.9, strip_accents='unicode', use_idf=1,\\\n",
    "                    smooth_idf=1, sublinear_tf=1, binary=True)\n",
    "\n",
    "tf = s.fit_transform(inp)\n",
    "name = s.get_feature_names()\n",
    "\n",
    "print(name)"
   ]
  }
 ],
 "metadata": {
  "kernelspec": {
   "display_name": "Python 3",
   "language": "python",
   "name": "python3"
  },
  "language_info": {
   "codemirror_mode": {
    "name": "ipython",
    "version": 3
   },
   "file_extension": ".py",
   "mimetype": "text/x-python",
   "name": "python",
   "nbconvert_exporter": "python",
   "pygments_lexer": "ipython3",
   "version": "3.6.3"
  }
 },
 "nbformat": 4,
 "nbformat_minor": 2
}
