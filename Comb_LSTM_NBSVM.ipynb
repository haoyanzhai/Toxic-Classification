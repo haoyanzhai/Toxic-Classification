{
 "cells": [
  {
   "cell_type": "code",
   "execution_count": 4,
   "metadata": {},
   "outputs": [
    {
     "name": "stdout",
     "output_type": "stream",
     "text": [
      "         id     toxic  severe_toxic   obscene    threat    insult  \\\n",
      "0   6044863  0.008758  3.748943e-05  0.000908  0.000218  0.001508   \n",
      "1   6102620  0.001027  6.026871e-07  0.000076  0.000005  0.000108   \n",
      "2  14563293  0.001445  6.335968e-07  0.000108  0.000006  0.000153   \n",
      "3  21086297  0.007059  1.769234e-05  0.000645  0.000118  0.001104   \n",
      "4  22982444  0.005322  1.563163e-05  0.000519  0.000103  0.000866   \n",
      "\n",
      "   identity_hate  \n",
      "0       0.000687  \n",
      "1       0.000049  \n",
      "2       0.000057  \n",
      "3       0.000433  \n",
      "4       0.000364  \n",
      "         id     toxic  severe_toxic   obscene    threat    insult  \\\n",
      "0   6044863  0.004357      0.000361  0.003997  0.000123  0.004649   \n",
      "1   6102620  0.005676      0.000383  0.002475  0.000131  0.004206   \n",
      "2  14563293  0.001836      0.000275  0.001256  0.000109  0.001151   \n",
      "3  21086297  0.099741      0.000418  0.003279  0.000123  0.004520   \n",
      "4  22982444  0.006929      0.000222  0.001672  0.000134  0.001031   \n",
      "\n",
      "   identity_hate  \n",
      "0       0.001274  \n",
      "1       0.000371  \n",
      "2       0.000209  \n",
      "3       0.000363  \n",
      "4       0.000193  \n"
     ]
    }
   ],
   "source": [
    "import pandas as pd\n",
    "import numpy as np\n",
    "\n",
    "path = '../data/'\n",
    "\n",
    "L = pd.read_csv(path + 'baseline_LSTM.csv') # for LSTM\n",
    "NB = pd.read_csv(path + 'baseline_NBSVM.csv') # for NBSVM\n",
    "\n",
    "print(L.head())\n",
    "print(NB.head())"
   ]
  },
  {
   "cell_type": "code",
   "execution_count": 5,
   "metadata": {},
   "outputs": [
    {
     "name": "stdout",
     "output_type": "stream",
     "text": [
      "         id     toxic  severe_toxic   obscene    threat    insult  \\\n",
      "0   6044863  0.006558      0.000199  0.002452  0.000170  0.003078   \n",
      "1   6102620  0.003352      0.000192  0.001275  0.000068  0.002157   \n",
      "2  14563293  0.001641      0.000138  0.000682  0.000058  0.000652   \n",
      "3  21086297  0.053400      0.000218  0.001962  0.000120  0.002812   \n",
      "4  22982444  0.006125      0.000119  0.001095  0.000119  0.000948   \n",
      "\n",
      "   identity_hate  \n",
      "0       0.000981  \n",
      "1       0.000210  \n",
      "2       0.000133  \n",
      "3       0.000398  \n",
      "4       0.000278  \n"
     ]
    }
   ],
   "source": [
    "label_cols = ['toxic', 'severe_toxic', 'obscene', 'threat', 'insult', 'identity_hate']\n",
    "\n",
    "L[label_cols] = (NB[label_cols] + L[label_cols]) / 2\n",
    "\n",
    "L.to_csv('../data/baseline_comb.csv', index=False)\n",
    "\n",
    "print(L.head())"
   ]
  }
 ],
 "metadata": {
  "kernelspec": {
   "display_name": "Python 3",
   "language": "python",
   "name": "python3"
  },
  "language_info": {
   "codemirror_mode": {
    "name": "ipython",
    "version": 3
   },
   "file_extension": ".py",
   "mimetype": "text/x-python",
   "name": "python",
   "nbconvert_exporter": "python",
   "pygments_lexer": "ipython3",
   "version": "3.6.3"
  }
 },
 "nbformat": 4,
 "nbformat_minor": 2
}
