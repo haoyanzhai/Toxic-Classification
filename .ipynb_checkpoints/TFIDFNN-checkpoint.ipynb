{
 "cells": [
  {
   "cell_type": "code",
   "execution_count": 1,
   "metadata": {},
   "outputs": [
    {
     "name": "stderr",
     "output_type": "stream",
     "text": [
      "Using TensorFlow backend.\n"
     ]
    },
    {
     "name": "stdout",
     "output_type": "stream",
     "text": [
      "['toxic', 'severe_toxic', 'obscene', 'threat', 'insult', 'identity_hate', 'other']\n",
      "         id                                       comment_text  toxic  \\\n",
      "0  22256635  Nonsense?  kiss off, geek. what I said is true...      1   \n",
      "1  27450690  \"\\n\\n Please do not vandalize pages, as you di...      0   \n",
      "2  54037174  \"\\n\\n \"\"Points of interest\"\" \\n\\nI removed the...      0   \n",
      "3  77493077  Asking some his nationality is a Racial offenc...      0   \n",
      "4  79357270  The reader here is not going by my say so for ...      0   \n",
      "\n",
      "   severe_toxic  obscene  threat  insult  identity_hate  other  \n",
      "0             0        0       0       0              0      0  \n",
      "1             0        0       0       0              0      1  \n",
      "2             0        0       0       0              0      1  \n",
      "3             0        0       0       0              0      1  \n",
      "4             0        0       0       0              0      1  \n",
      "95851\n"
     ]
    }
   ],
   "source": [
    "import pandas as pd\n",
    "import numpy as np\n",
    "import re, string\n",
    "from keras.models import Model\n",
    "from keras.layers import Dense, Input, Dropout\n",
    "from sklearn.feature_extraction.text import CountVectorizer, TfidfVectorizer\n",
    "from keras.callbacks import EarlyStopping, ModelCheckpoint\n",
    "\n",
    "# read data\n",
    "\n",
    "path = '../data/'\n",
    "\n",
    "train = pd.read_csv(path + 'train.csv')\n",
    "test = pd.read_csv(path + 'test.csv')\n",
    "\n",
    "label_cols = ['toxic', 'severe_toxic', 'obscene', 'threat', 'insult', 'identity_hate']\n",
    "train['other'] = 1 - train[label_cols].max(axis=1)\n",
    "label_cols.append('other')\n",
    "\n",
    "print(label_cols)\n",
    "\n",
    "train['comment_text'].fillna(\"unknown\", inplace=True)\n",
    "test['comment_text'].fillna(\"unknown\", inplace=True)\n",
    "\n",
    "print(train.head())\n",
    "print(train.shape[0])"
   ]
  },
  {
   "cell_type": "code",
   "execution_count": 2,
   "metadata": {},
   "outputs": [
    {
     "name": "stdout",
     "output_type": "stream",
     "text": [
      "                  toxic  severe_toxic   obscene    threat    insult  \\\n",
      "toxic          1.000000      0.308810  0.677491  0.162967  0.648330   \n",
      "severe_toxic   0.308810      1.000000  0.404540  0.133469  0.377450   \n",
      "obscene        0.677491      0.404540  1.000000  0.149874  0.744685   \n",
      "threat         0.162967      0.133469  0.149874  1.000000  0.157534   \n",
      "insult         0.648330      0.377450  0.744685  0.157534  1.000000   \n",
      "identity_hate  0.259124      0.193385  0.287794  0.123971  0.331922   \n",
      "other         -0.968241     -0.299002 -0.703519 -0.167516 -0.678137   \n",
      "\n",
      "               identity_hate     other  \n",
      "toxic               0.259124 -0.968241  \n",
      "severe_toxic        0.193385 -0.299002  \n",
      "obscene             0.287794 -0.703519  \n",
      "threat              0.123971 -0.167516  \n",
      "insult              0.331922 -0.678137  \n",
      "identity_hate       1.000000 -0.274396  \n",
      "other              -0.274396  1.000000  \n"
     ]
    }
   ],
   "source": [
    "C = train[label_cols].corr()\n",
    "print(C)"
   ]
  },
  {
   "cell_type": "code",
   "execution_count": 46,
   "metadata": {},
   "outputs": [
    {
     "name": "stdout",
     "output_type": "stream",
     "text": [
      "(95851, 162619)\n",
      "(226998, 162619)\n"
     ]
    }
   ],
   "source": [
    "# get tfidf\n",
    "\n",
    "# re_tok = re.compile(f'([{string.punctuation}¨«»®´·º½¾¿¡§£₤‘’\\d+])')\n",
    "re_tok = re.compile(f'([{string.punctuation}¨«»®´·º½¾¿¡§£₤‘’\\d+])')\n",
    "def tokenize(s): return re_tok.sub(r' ', s).lower().split()\n",
    "\n",
    "# CountVectorizer(input=’content’, encoding=’utf-8’, decode_error=’strict’, strip_accents=None,\\\n",
    "#                 lowercase=True, preprocessor=None, tokenizer=None, stop_words=None,\\\n",
    "#                 token_pattern=’(?u)\\b\\w\\w+\\b’, ngram_range=(1, 1), analyzer=’word’, max_df=1.0,\\\n",
    "#                 min_df=1, max_features=None, vocabulary=None, binary=False, dtype=<class ‘numpy.int64’>)\n",
    "\n",
    "# TfidfVectorizer(input=’content’, encoding=’utf-8’, decode_error=’strict’, strip_accents=None,\n",
    "#                 lowercase=True, preprocessor=None, tokenizer=None, analyzer=’word’, stop_words=None,\\\n",
    "#                 token_pattern=’(?u)\\b\\w\\w+\\b’, ngram_range=(1, 1), max_df=1.0, min_df=1, max_features=None,\\\n",
    "#                 vocabulary=None, binary=False, dtype=<class ‘numpy.int64’>, norm=’l2’, use_idf=True,\\\n",
    "#                 smooth_idf=True, sublinear_tf=False)\n",
    "\n",
    "tfidf_vectorizer = TfidfVectorizer(ngram_range=(1,2), stop_words='english', tokenizer=tokenize,\\\n",
    "                                   max_df=0.9, min_df=3, strip_accents='unicode', use_idf=1,\\\n",
    "                                   smooth_idf=1, sublinear_tf=1)\n",
    "\n",
    "train_tfidf = tfidf_vectorizer.fit_transform(train['comment_text'])\n",
    "tfidf_name = tfidf_vectorizer.get_feature_names()\n",
    "test_tfidf = tfidf_vectorizer.transform(test['comment_text'])\n",
    "\n",
    "print(train_tfidf.shape)\n",
    "print(test_tfidf.shape)"
   ]
  },
  {
   "cell_type": "code",
   "execution_count": 44,
   "metadata": {},
   "outputs": [
    {
     "name": "stdout",
     "output_type": "stream",
     "text": [
      "(7, 55482)\n",
      "(95851, 55482)\n"
     ]
    },
    {
     "ename": "ValueError",
     "evalue": "inconsistent shapes",
     "output_type": "error",
     "traceback": [
      "\u001b[0;31m---------------------------------------------------------------------------\u001b[0m",
      "\u001b[0;31mValueError\u001b[0m                                Traceback (most recent call last)",
      "\u001b[0;32m<ipython-input-44-5482e9417f61>\u001b[0m in \u001b[0;36m<module>\u001b[0;34m()\u001b[0m\n\u001b[1;32m     11\u001b[0m \u001b[0;34m\u001b[0m\u001b[0m\n\u001b[1;32m     12\u001b[0m \u001b[0mprint\u001b[0m\u001b[0;34m(\u001b[0m\u001b[0mtrain_tfidf\u001b[0m\u001b[0;34m.\u001b[0m\u001b[0mshape\u001b[0m\u001b[0;34m)\u001b[0m\u001b[0;34m\u001b[0m\u001b[0m\n\u001b[0;32m---> 13\u001b[0;31m \u001b[0mX_t\u001b[0m \u001b[0;34m=\u001b[0m \u001b[0mtrain_tfidf\u001b[0m\u001b[0;34m.\u001b[0m\u001b[0mmultiply\u001b[0m\u001b[0;34m(\u001b[0m\u001b[0mnp\u001b[0m\u001b[0;34m.\u001b[0m\u001b[0mtranspose\u001b[0m\u001b[0;34m(\u001b[0m\u001b[0mr\u001b[0m\u001b[0;34m)\u001b[0m\u001b[0;34m)\u001b[0m\u001b[0;34m\u001b[0m\u001b[0m\n\u001b[0m\u001b[1;32m     14\u001b[0m \u001b[0my\u001b[0m \u001b[0;34m=\u001b[0m \u001b[0mtrain\u001b[0m\u001b[0;34m[\u001b[0m\u001b[0mlabel_cols\u001b[0m\u001b[0;34m]\u001b[0m\u001b[0;34m.\u001b[0m\u001b[0mvalues\u001b[0m\u001b[0;34m\u001b[0m\u001b[0m\n\u001b[1;32m     15\u001b[0m \u001b[0;34m\u001b[0m\u001b[0m\n",
      "\u001b[0;32m~/Documents/work/venv/lib/python3.6/site-packages/scipy/sparse/compressed.py\u001b[0m in \u001b[0;36mmultiply\u001b[0;34m(self, other)\u001b[0m\n\u001b[1;32m    441\u001b[0m             \u001b[0mdata\u001b[0m \u001b[0;34m=\u001b[0m \u001b[0mnp\u001b[0m\u001b[0;34m.\u001b[0m\u001b[0mmultiply\u001b[0m\u001b[0;34m(\u001b[0m\u001b[0mret\u001b[0m\u001b[0;34m.\u001b[0m\u001b[0mdata\u001b[0m\u001b[0;34m,\u001b[0m \u001b[0mother\u001b[0m\u001b[0;34m[\u001b[0m\u001b[0mret\u001b[0m\u001b[0;34m.\u001b[0m\u001b[0mrow\u001b[0m\u001b[0;34m]\u001b[0m\u001b[0;34m.\u001b[0m\u001b[0mravel\u001b[0m\u001b[0;34m(\u001b[0m\u001b[0;34m)\u001b[0m\u001b[0;34m)\u001b[0m\u001b[0;34m\u001b[0m\u001b[0m\n\u001b[1;32m    442\u001b[0m         \u001b[0;32melse\u001b[0m\u001b[0;34m:\u001b[0m\u001b[0;34m\u001b[0m\u001b[0m\n\u001b[0;32m--> 443\u001b[0;31m             \u001b[0;32mraise\u001b[0m \u001b[0mValueError\u001b[0m\u001b[0;34m(\u001b[0m\u001b[0;34m\"inconsistent shapes\"\u001b[0m\u001b[0;34m)\u001b[0m\u001b[0;34m\u001b[0m\u001b[0m\n\u001b[0m\u001b[1;32m    444\u001b[0m         \u001b[0mret\u001b[0m\u001b[0;34m.\u001b[0m\u001b[0mdata\u001b[0m \u001b[0;34m=\u001b[0m \u001b[0mdata\u001b[0m\u001b[0;34m.\u001b[0m\u001b[0mview\u001b[0m\u001b[0;34m(\u001b[0m\u001b[0mnp\u001b[0m\u001b[0;34m.\u001b[0m\u001b[0mndarray\u001b[0m\u001b[0;34m)\u001b[0m\u001b[0;34m.\u001b[0m\u001b[0mravel\u001b[0m\u001b[0;34m(\u001b[0m\u001b[0;34m)\u001b[0m\u001b[0;34m\u001b[0m\u001b[0m\n\u001b[1;32m    445\u001b[0m         \u001b[0;32mreturn\u001b[0m \u001b[0mret\u001b[0m\u001b[0;34m\u001b[0m\u001b[0m\n",
      "\u001b[0;31mValueError\u001b[0m: inconsistent shapes"
     ]
    }
   ],
   "source": [
    "def f(y_i, y):\n",
    "    return (np.squeeze(np.array(train_tfidf[y == y_i].sum(0) + 1))) / ((y == y_i).sum() + 1)\n",
    "\n",
    "r = []\n",
    "for i, j in enumerate(label_cols):\n",
    "    y = train[j].values\n",
    "    r.append(np.log(f(1, y) / f(0, y)))\n",
    "    \n",
    "r = np.array(r)\n",
    "print(r.shape)\n",
    "\n",
    "print(train_tfidf.shape)\n",
    "X_t = train_tfidf.multiply(np.transpose(r))\n",
    "y = train[label_cols].values\n",
    "\n",
    "X_test = test_tfidf.multiply(np.transpose(r))"
   ]
  },
  {
   "cell_type": "code",
   "execution_count": 4,
   "metadata": {},
   "outputs": [
    {
     "name": "stdout",
     "output_type": "stream",
     "text": [
      "Train on 86265 samples, validate on 9586 samples\n",
      "Epoch 1/2\n",
      "86240/86265 [============================>.] - ETA: 0s - loss: 0.1228 - acc: 0.9557Epoch 00001: val_loss improved from inf to 0.11979, saving model to weights_base.best.hdf5\n",
      "86265/86265 [==============================] - 663s 8ms/step - loss: 0.1228 - acc: 0.9557 - val_loss: 0.1198 - val_acc: 0.9565\n",
      "Epoch 2/2\n",
      "86240/86265 [============================>.] - ETA: 0s - loss: 0.0953 - acc: 0.9600Epoch 00002: val_loss did not improve\n",
      "86265/86265 [==============================] - 786s 9ms/step - loss: 0.0954 - acc: 0.9600 - val_loss: 0.1278 - val_acc: 0.9561\n",
      "done\n"
     ]
    }
   ],
   "source": [
    "unit_size = 200\n",
    "dropout_rate = 0.1\n",
    "\n",
    "def get_model():\n",
    "    input = Input(shape=(X_t.shape[1], ), sparse=True)\n",
    "    x = Dense(unit_size, activation='tanh')(input)\n",
    "    x = Dropout(dropout_rate)(x)\n",
    "    x = Dense(unit_size, activation='tanh')(x)\n",
    "    x = Dropout(dropout_rate)(x)\n",
    "    x = Dense(len(label_cols), activation='softmax')(x)\n",
    "    model = Model(inputs=input, outputs=x)\n",
    "    model.compile(loss='binary_crossentropy',\n",
    "                  optimizer='adam',\n",
    "                  metrics=['accuracy'])\n",
    "\n",
    "    return model\n",
    "\n",
    "model = get_model()\n",
    "\n",
    "batch_size = 32\n",
    "epochs = 2\n",
    "\n",
    "file_path=\"weights_base.best.hdf5\"\n",
    "checkpoint = ModelCheckpoint(file_path, monitor='val_loss', verbose=1, save_best_only=True, mode='min')\n",
    "\n",
    "earlystopping = EarlyStopping(monitor=\"val_loss\", mode=\"min\", patience=20)\n",
    "\n",
    "callbacks_list = [checkpoint, earlystopping]\n",
    "model.fit(X_t, y, batch_size=batch_size, epochs=epochs, validation_split=0.1, callbacks=callbacks_list)\n",
    "\n",
    "model.load_weights(file_path)\n",
    "\n",
    "y_test = model.predict(X_test)\n",
    "\n",
    "print('done')"
   ]
  },
  {
   "cell_type": "code",
   "execution_count": 7,
   "metadata": {},
   "outputs": [
    {
     "name": "stdout",
     "output_type": "stream",
     "text": [
      "done\n"
     ]
    }
   ],
   "source": [
    "label_cols_ini = ['toxic', 'severe_toxic', 'obscene', 'threat', 'insult', 'identity_hate']\n",
    "file_name = 'baseline1.csv'\n",
    "\n",
    "sample_submission = pd.read_csv(path + 'sample_submission.csv')\n",
    "\n",
    "sample_submission[label_cols_ini] = y_test[:, : -1]\n",
    "\n",
    "sample_submission.to_csv(path + file_name, index=False)\n",
    "\n",
    "print('done')"
   ]
  }
 ],
 "metadata": {
  "kernelspec": {
   "display_name": "Python 3",
   "language": "python",
   "name": "python3"
  },
  "language_info": {
   "codemirror_mode": {
    "name": "ipython",
    "version": 3
   },
   "file_extension": ".py",
   "mimetype": "text/x-python",
   "name": "python",
   "nbconvert_exporter": "python",
   "pygments_lexer": "ipython3",
   "version": "3.6.3"
  }
 },
 "nbformat": 4,
 "nbformat_minor": 2
}
